{
 "cells": [
  {
   "cell_type": "code",
   "execution_count": null,
   "metadata": {
    "collapsed": false
   },
   "outputs": [],
   "source": [
    "import matplotlib\n",
    "import numpy as np\n",
    "import pandas as pd\n",
    "import seaborn as sns\n",
    "from matplotlib import pyplot as plt\n",
    "\n",
    "%matplotlib inline\n",
    "plt.style.use('ggplot')"
   ]
  },
  {
   "cell_type": "markdown",
   "metadata": {},
   "source": [
    "##  Names to scrape for details"
   ]
  },
  {
   "cell_type": "code",
   "execution_count": null,
   "metadata": {
    "collapsed": false
   },
   "outputs": [],
   "source": [
    "name_list = pd.read_json('data/names_list.json')"
   ]
  },
  {
   "cell_type": "code",
   "execution_count": null,
   "metadata": {
    "collapsed": false
   },
   "outputs": [],
   "source": [
    "name_list[name_list.name == 'Anne']"
   ]
  },
  {
   "cell_type": "code",
   "execution_count": null,
   "metadata": {
    "collapsed": true
   },
   "outputs": [],
   "source": [
    "# scrapeable_females = name_list.ix[(name_list.total_female > 4), 'name']\n",
    "# scrapeable_males = name_list.ix[(name_list.total_male > 4), 'name']\n",
    "# scrapeable_females.to_csv('data/scrapeable_females.csv', index=False, encoding='utf-8')\n",
    "# scrapeable_males.to_csv('data/scrapeable_males.csv', index=False, encoding='utf-8')"
   ]
  },
  {
   "cell_type": "markdown",
   "metadata": {
    "collapsed": true
   },
   "source": [
    "## 1. Birth rates"
   ]
  },
  {
   "cell_type": "code",
   "execution_count": null,
   "metadata": {
    "collapsed": true
   },
   "outputs": [],
   "source": [
    "MIN_YEAR = 1880\n",
    "MAX_YEAR = 2014"
   ]
  },
  {
   "cell_type": "markdown",
   "metadata": {},
   "source": [
    "Load the file with detailed stats per name."
   ]
  },
  {
   "cell_type": "code",
   "execution_count": null,
   "metadata": {
    "collapsed": false
   },
   "outputs": [],
   "source": [
    "details = pd.read_json('data/details.json')\n",
    "names_with_details = details[details.has_details]"
   ]
  },
  {
   "cell_type": "code",
   "execution_count": null,
   "metadata": {
    "collapsed": false
   },
   "outputs": [],
   "source": [
    "names_with_details[names_with_details.name == 'Anne']"
   ]
  },
  {
   "cell_type": "markdown",
   "metadata": {},
   "source": [
    "We're mostly interested in: \n",
    "<li> <code>name</code> </li>\n",
    "<li> <code>gender</code> </li>\n",
    "<li> <code>name_type</code>: whether it's a first name or a follow name </li>\n",
    "<li> <code>value</code>: list with # births per year </li>\n",
    "<li> <code>approximation</code>: list with approximated # births per year </li>\n",
    "<li> <code>year</code>: array indexing value and approximation </li>\n",
    "\n",
    "<p>\n",
    "Unfortunately, value, approximation and year are lists contained in cells in the DataFrame, so we have to do some pandas magic (hidden in the function <code>get_births</code>) to unpack the data."
   ]
  },
  {
   "cell_type": "code",
   "execution_count": null,
   "metadata": {
    "collapsed": false
   },
   "outputs": [],
   "source": [
    "def get_births(df, id_vars, cols, var_name='ii'):\n",
    "    \"\"\"\n",
    "    Parse scraped data and get birth stats.\n",
    "    \n",
    "    :param df: DataFrame with scraped data\n",
    "    :param id_vars: columns to use as identifiers\n",
    "    :param cols: columns with values to unpack\n",
    "    :param var_name: dummy variable name\n",
    "    :returns DataFrame with unpacked data\n",
    "    \"\"\"\n",
    "    births = pd.concat([convert_and_index(df, id_vars, var_name, p) for p \n",
    "                        in cols], axis=1)\n",
    "    births.reset_index(inplace=True)\n",
    "    births.drop(var_name, axis=1, inplace=True)\n",
    "    return births\n",
    "\n",
    "\n",
    "def convert_and_index(df, id_vars, var_name, value_name):\n",
    "    \"\"\"\n",
    "    Wrapper function for convert_nested_to_long: also sets id_vars\n",
    "    and var_name as index.\n",
    "    \n",
    "    :param df: DataFrame\n",
    "    :param id_vars: List to use as identified variables\n",
    "    :param var_name: Name to use for the variable column\n",
    "    :param value_name: Column name to unpack.\n",
    "    :returns DataFrame with column data in long format\n",
    "    \"\"\"\n",
    "    converted = convert_nested_to_long(df, id_vars, var_name, value_name)\n",
    "    return converted.set_index(id_vars + [var_name])\n",
    "\n",
    "\n",
    "def convert_nested_to_long(df, id_vars, var_name, value_name):\n",
    "    \"\"\"\n",
    "    Convert lists nested in cells in a column to a DataFrame in long\n",
    "    format.\n",
    "    \n",
    "    :param df: DataFrame\n",
    "    :param id_vars: List to use as identified variables\n",
    "    :param var_name: Name to use for the variable column\n",
    "    :param value_name: Column name to unpack.\n",
    "    :returns DataFrame with column data in long format\n",
    "    \"\"\"\n",
    "    indexed = df.set_index(id_vars)\n",
    "    unnested = indexed[value_name].apply(pd.Series).reset_index()\n",
    "    long_format = pd.melt(unnested, id_vars=id_vars, \n",
    "                          var_name=var_name, value_name=value_name)\n",
    "    return long_format"
   ]
  },
  {
   "cell_type": "code",
   "execution_count": null,
   "metadata": {
    "collapsed": false
   },
   "outputs": [],
   "source": [
    "births = get_births(names_with_details, ['name', 'gender', 'name_type'],\n",
    "                    ['year', 'value', 'approximation'])"
   ]
  },
  {
   "cell_type": "markdown",
   "metadata": {},
   "source": [
    "The function <code>convert_nested_to_long</code> converts the columns <code>year</code>, <code>value</code> and <code>approximation</code> individually. The lists in the cells of the column are converted to a <code>Series</code>, effectively turning the 1D column with lists into a 2D <code>DataFrame</code>. The data is then transformed from wide to long format by melting the <code>DataFrame</code>. Setting the index with the name, gender and name type preserves these index values during the transformation"
   ]
  },
  {
   "cell_type": "code",
   "execution_count": null,
   "metadata": {
    "collapsed": false
   },
   "outputs": [],
   "source": [
    "temp_name = names_with_details[names_with_details.name == 'Aad']\n",
    "temp_name.iloc[0]"
   ]
  },
  {
   "cell_type": "code",
   "execution_count": null,
   "metadata": {
    "collapsed": false
   },
   "outputs": [],
   "source": [
    "wide_name = temp_name.set_index(['name', 'gender', 'name_type'])['approximation'].apply(pd.Series)\n",
    "wide_name"
   ]
  },
  {
   "cell_type": "code",
   "execution_count": null,
   "metadata": {
    "collapsed": false
   },
   "outputs": [],
   "source": [
    "pd.melt(wide_name.reset_index(), id_vars=['name', 'gender', 'name_type'], \n",
    "        var_name='ii', value_name='approximation').head()"
   ]
  },
  {
   "cell_type": "markdown",
   "metadata": {},
   "source": [
    "The processsed result looks like:"
   ]
  },
  {
   "cell_type": "code",
   "execution_count": null,
   "metadata": {
    "collapsed": false
   },
   "outputs": [],
   "source": [
    "births.head()"
   ]
  },
  {
   "cell_type": "markdown",
   "metadata": {},
   "source": [
    "Approximate births are given for years that don't have exact data, so we would like to use approximations if no real values are given. "
   ]
  },
  {
   "cell_type": "code",
   "execution_count": null,
   "metadata": {
    "collapsed": false
   },
   "outputs": [],
   "source": [
    "# Combine approximate & exact stats \n",
    "births['n_born'] = births.approximation\n",
    "has_value = births.value > 0 \n",
    "births.ix[has_value, 'n_born'] = births.ix[has_value, 'value']\n",
    "# Tidy up\n",
    "births.drop(['value', 'approximation'], axis=1, inplace=True)\n",
    "births['year'] = births['year'].astype(int)\n",
    "births.rename(columns={'year': 'birth_year'}, inplace=True)"
   ]
  },
  {
   "cell_type": "markdown",
   "metadata": {},
   "source": [
    "To compute the sums of the births for both name types or both genders, group over the all other identifying columns, and sum the number of births. Append the resulting <code>DataFrame</code> to the original one."
   ]
  },
  {
   "cell_type": "code",
   "execution_count": null,
   "metadata": {
    "collapsed": false
   },
   "outputs": [],
   "source": [
    "def append_sums(df, id_vars, value_vars, id_name, id_value):\n",
    "    \"\"\"\n",
    "    Append sum aggregates.\n",
    "    \n",
    "    :param df: DataFrame\n",
    "    :param id_vars: Column(s) to use as identifier variables\n",
    "    :param value_vars: Column(s) to sum\n",
    "    :param agg_name: Column to aggregate \n",
    "    :param agg_value: Value to use as identifier in aggregated column\n",
    "    :returns DataFrame with aggregated sums appended\n",
    "    \"\"\"\n",
    "    totals = df.groupby(id_vars, as_index=False)[value_vars].sum()\n",
    "    totals[id_name] = id_value\n",
    "    df = df[df[id_name] != id_value].append(totals, ignore_index=True)\n",
    "    return df"
   ]
  },
  {
   "cell_type": "code",
   "execution_count": null,
   "metadata": {
    "collapsed": false,
    "scrolled": true
   },
   "outputs": [],
   "source": [
    "births = append_sums(births, ['name', 'gender', 'birth_year'],\n",
    "                     'n_born', 'name_type', 'total')\n",
    "births = append_sums(births, ['name', 'name_type', 'birth_year'],\n",
    "                     'n_born', 'gender', 'any')"
   ]
  },
  {
   "cell_type": "markdown",
   "metadata": {},
   "source": [
    "The end result looks like:"
   ]
  },
  {
   "cell_type": "code",
   "execution_count": null,
   "metadata": {
    "collapsed": false
   },
   "outputs": [],
   "source": [
    "births.head()"
   ]
  },
  {
   "cell_type": "markdown",
   "metadata": {},
   "source": [
    "And we can already plot the yearly birth rates for a name:"
   ]
  },
  {
   "cell_type": "code",
   "execution_count": null,
   "metadata": {
    "collapsed": false
   },
   "outputs": [],
   "source": [
    "NAME = 'Anne'\n",
    "id_cols = ['name_type', 'gender']\n",
    "current_births = births[births.name == NAME]\n",
    "\n",
    "fig, ax = plt.subplots(3, 3, figsize=(10, 10), sharex=True, sharey=True)\n",
    "ax = ax.reshape(-1)  # Reshape the list for easy iteraton\n",
    "for i_plot, (key, group) in enumerate(current_births.groupby(id_cols)):\n",
    "    group.plot(x='birth_year', y='n_born', ax=ax[i_plot],\n",
    "               title=' '.join(key), rot=45)\n",
    "    ax[i_plot].legend([])\n",
    "    ax[i_plot].set_ylabel('# births')\n",
    "fig.tight_layout()"
   ]
  },
  {
   "cell_type": "markdown",
   "metadata": {},
   "source": [
    "Plotting the yearly birth totals clearly shows a small increase after the First and a big boom after the Second World War."
   ]
  },
  {
   "cell_type": "code",
   "execution_count": null,
   "metadata": {
    "collapsed": false
   },
   "outputs": [],
   "source": [
    "yearly_births = pd.pivot_table(births, index='birth_year', \n",
    "                               columns=['name_type', 'gender'], \n",
    "                               values='n_born', aggfunc='sum')\n",
    "\n",
    "fig, ax = plt.subplots(2, 2, figsize=(10, 8), sharex='col', \n",
    "                       sharey='col')\n",
    "for i_row, name_type in enumerate(['first', 'follow']):\n",
    "    (yearly_births.sum()[name_type] / 1E3).plot(kind='bar', rot=45, \n",
    "                                                ax=ax[i_row, 0])\n",
    "    ax[i_row, 0].set_ylabel('# births (thousands)')\n",
    "    ax[i_row, 0].set_title('Total births for %s name' % name_type)\n",
    "    \n",
    "    (yearly_births[name_type] / 1E3).plot(ax=ax[i_row, 1])\n",
    "    ax[i_row, 1].set_ylabel('# births (thousands)')\n",
    "    ax[i_row, 1].set_title('Yearly births for %s name' % name_type)"
   ]
  },
  {
   "cell_type": "markdown",
   "metadata": {},
   "source": [
    "Dutch baby boomers are more likely to have more than one follow name compared to previous and later generations, as the ratio of total follow and first names shows. "
   ]
  },
  {
   "cell_type": "code",
   "execution_count": null,
   "metadata": {
    "collapsed": false
   },
   "outputs": [],
   "source": [
    "name_type_ratio = (yearly_births['follow'] / yearly_births['first'])\n",
    "ax = name_type_ratio.plot(figsize=(8, 4))\n",
    "ax.set_ylabel('Ratio')\n",
    "ax.set_title(\"Ratio between # born with follow and first name\")"
   ]
  },
  {
   "cell_type": "markdown",
   "metadata": {},
   "source": [
    "## 2. Mortality rates "
   ]
  },
  {
   "cell_type": "markdown",
   "metadata": {},
   "source": [
    "The life expectancy is given as the number of people surviving from a cohort of 100,000."
   ]
  },
  {
   "cell_type": "code",
   "execution_count": null,
   "metadata": {
    "collapsed": false,
    "scrolled": true
   },
   "outputs": [],
   "source": [
    "survival = pd.read_csv('data/cbs_life_expectancy.csv', delimiter=';', skiprows=4, \n",
    "                       names=['age', 'birth_year', 'gender', 'amount'], skipfooter=1)\n",
    "survival.head()"
   ]
  },
  {
   "cell_type": "markdown",
   "metadata": {},
   "source": [
    "Convert strings to floats and get rid of all the Dutch words."
   ]
  },
  {
   "cell_type": "code",
   "execution_count": null,
   "metadata": {
    "collapsed": false
   },
   "outputs": [],
   "source": [
    "survival['age'] = survival.age.str.split(' ').apply(lambda x: float(x[0]))\n",
    "survival['gender'] = survival.gender.map({'Mannen': 'male', 'Vrouwen': 'female'})\n",
    "survival.ix[(survival.amount == '.'), 'amount'] = None\n",
    "survival['survival_rate'] = survival['amount'].astype(np.float) / 100000.\n",
    "survival.drop('amount', axis=1, inplace=True)\n",
    "survival.head()"
   ]
  },
  {
   "cell_type": "code",
   "execution_count": null,
   "metadata": {
    "collapsed": false
   },
   "outputs": [],
   "source": [
    "survival.tail()"
   ]
  },
  {
   "cell_type": "code",
   "execution_count": null,
   "metadata": {
    "collapsed": true
   },
   "outputs": [],
   "source": [
    "MAX_AGE = 105\n",
    "\n",
    "\n",
    "def ffill_missing_years(df):\n",
    "    groupby_cols = ['gender', 'age']\n",
    "    groups = df.groupby(groupby_cols)\n",
    "    filled = groups.apply(ffill_group)\n",
    "    return filled.drop(groupby_cols, axis=1).reset_index(groupby_cols)\n",
    "\n",
    "def ffill_group(g):\n",
    "    reindex_g = g.set_index('birth_year')\n",
    "    filled_g = reindex_g.fillna(method='ffill')\n",
    "    return filled_g.reset_index()\n",
    "\n",
    "def interpolate_age_proba(df):\n",
    "    new_axis = range(0, MAX_AGE + 1)\n",
    "    groupby_cols = ['gender', 'birth_year']\n",
    "    groups = df.groupby(groupby_cols)\n",
    "    age_fcn = lambda x: interpolate_col(x, 'age', new_axis)\n",
    "    interpolated = groups.apply(age_fcn)\n",
    "    interpolated[interpolated.survival_rate < 0] = 0\n",
    "    return interpolated.drop(groupby_cols, axis=1).reset_index(groupby_cols)\n",
    "\n",
    "def interpolate_col(g, col, interpolate_axis):\n",
    "    reindex_g = g.set_index(col).reindex(interpolate_axis)\n",
    "    reindex_g.ix[max(interpolate_axis)] = 0\n",
    "    interpolate_func = lambda x: pd.Series.interpolate(x, method='quadratic')\n",
    "    interpolated_g = reindex_g.apply(interpolate_func)\n",
    "    return interpolated_g.reset_index()"
   ]
  },
  {
   "cell_type": "code",
   "execution_count": null,
   "metadata": {
    "collapsed": false
   },
   "outputs": [],
   "source": [
    "filled_survival = ffill_missing_years(survival)\n",
    "interpolated_survival = interpolate_age_proba(filled_survival)"
   ]
  },
  {
   "cell_type": "code",
   "execution_count": null,
   "metadata": {
    "collapsed": false
   },
   "outputs": [],
   "source": [
    "interpolated_survival.head()"
   ]
  },
  {
   "cell_type": "code",
   "execution_count": null,
   "metadata": {
    "collapsed": false
   },
   "outputs": [],
   "source": [
    "DEMO_YEAR = 1990\n",
    "def get_yearly_data(df, year):\n",
    "    \"\"\"\n",
    "    Get yearly data and pivot.\n",
    "    \n",
    "    :param df: DataFrame\n",
    "    :param year: Target year\n",
    "    :returns Pivoted DataFrame with data from year\n",
    "    \"\"\"\n",
    "    temp = df[df.birth_year == year]\n",
    "    data = temp.pivot(columns='gender', index='age', \n",
    "                      values='survival_rate')\n",
    "    return data\n",
    "\n",
    "year_original = get_yearly_data(survival, DEMO_YEAR)\n",
    "year_filled = get_yearly_data(filled_survival, DEMO_YEAR)\n",
    "year_interpolated = get_yearly_data(interpolated_survival, DEMO_YEAR)\n",
    "\n",
    "fig, ax = plt.subplots(1, 3, figsize=(16, 4), sharex=True, sharey=True)\n",
    "\n",
    "title_suffix = ' - year: ' + str(DEMO_YEAR)\n",
    "year_original.plot(ax=ax[0], title='original' + title_suffix)\n",
    "year_filled.plot(ax=ax[1], title='forward' + title_suffix)\n",
    "year_interpolated.plot(ax=ax[2], title='interpolated' + title_suffix)\n",
    "for current_ax in ax:\n",
    "    current_ax.set_ylabel('survival rate')\n",
    "    current_ax.legend(loc='lower left', frameon=True)"
   ]
  },
  {
   "cell_type": "code",
   "execution_count": null,
   "metadata": {
    "collapsed": false,
    "scrolled": true
   },
   "outputs": [],
   "source": [
    "TARGET_YEAR = 2014\n",
    "assert (interpolated_survival.birth_year == TARGET_YEAR).any(), 'Invalid year'\n",
    "is_alive_in_year = (interpolated_survival.age + \n",
    "                    interpolated_survival.birth_year == TARGET_YEAR)\n",
    "year_survival = interpolated_survival[is_alive_in_year]"
   ]
  },
  {
   "cell_type": "code",
   "execution_count": null,
   "metadata": {
    "collapsed": false
   },
   "outputs": [],
   "source": [
    "births.head()"
   ]
  },
  {
   "cell_type": "code",
   "execution_count": null,
   "metadata": {
    "collapsed": false
   },
   "outputs": [],
   "source": [
    "year_survival.head()"
   ]
  },
  {
   "cell_type": "code",
   "execution_count": null,
   "metadata": {
    "collapsed": false
   },
   "outputs": [],
   "source": [
    "name_survival = pd.merge(births, year_survival)\n",
    "name_survival['n_born_and_alive'] = name_survival.n_born * name_survival.survival_rate\n",
    "name_survival['n_dead'] = name_survival.n_born - name_survival.n_born_and_alive"
   ]
  },
  {
   "cell_type": "code",
   "execution_count": null,
   "metadata": {
    "collapsed": false
   },
   "outputs": [],
   "source": [
    "name_survival[name_survival.name_type == 'first'].groupby('gender').n_born_and_alive.sum()"
   ]
  },
  {
   "cell_type": "code",
   "execution_count": null,
   "metadata": {
    "collapsed": false
   },
   "outputs": [],
   "source": [
    "#export.to_csv('out/name_survival.csv', index=False, encoding='utf-8')"
   ]
  },
  {
   "cell_type": "code",
   "execution_count": null,
   "metadata": {
    "collapsed": false
   },
   "outputs": [],
   "source": [
    "#name_survival.to_csv('out/name_survival.csv', index=False, encoding='utf-8')"
   ]
  },
  {
   "cell_type": "code",
   "execution_count": null,
   "metadata": {
    "collapsed": true
   },
   "outputs": [],
   "source": [
    "# See https://stackoverflow.com/questions/23433237/pandas-long-form-table-to-nested-json?rq=1\n",
    "\n",
    "class NestedDict(dict):\n",
    "    def __missing__(self, key):\n",
    "        self[key] = NestedDict()\n",
    "        return self[key]"
   ]
  },
  {
   "cell_type": "code",
   "execution_count": null,
   "metadata": {
    "collapsed": false
   },
   "outputs": [],
   "source": [
    "name_survival[['birth_year', 'n_born']] = name_survival[['birth_year', 'n_born']].applymap(np.round)\n",
    "name_survival[['birth_year', 'n_born']] = name_survival[['birth_year', 'n_born']].astype(int)"
   ]
  },
  {
   "cell_type": "code",
   "execution_count": null,
   "metadata": {
    "collapsed": false
   },
   "outputs": [],
   "source": [
    "d = NestedDict()\n",
    "ii = 0\n",
    "for key, group in name_survival.groupby(['name', 'gender', 'name_type']):\n",
    "    if ii == 0:\n",
    "        d[key[0]][key[1]][key[2]]['data'] = group[['birth_year', 'n_born', 'n_born_and_alive']].to_dict(orient='records')\n",
    "    ii += 1"
   ]
  },
  {
   "cell_type": "code",
   "execution_count": null,
   "metadata": {
    "collapsed": false
   },
   "outputs": [],
   "source": [
    "l = []\n",
    "for key, group in name_survival.groupby(['name', 'gender', 'name_type']):\n",
    "    data = group[['birth_year', 'n_born', 'n_born_and_alive']].to_dict(orient='records')\n",
    "    entry = dict(zip(('name', 'gender', 'name_type', 'data'), list(key) + [data]))\n",
    "    l.append(entry)"
   ]
  },
  {
   "cell_type": "code",
   "execution_count": null,
   "metadata": {
    "collapsed": false
   },
   "outputs": [],
   "source": [
    "df = pd.DataFrame(l)\n",
    "df.to_csv('test.csv', index=False, encoding='utf-8')"
   ]
  },
  {
   "cell_type": "code",
   "execution_count": null,
   "metadata": {
    "collapsed": false
   },
   "outputs": [],
   "source": [
    "!ls -lh"
   ]
  },
  {
   "cell_type": "markdown",
   "metadata": {},
   "source": [
    "<code>\n",
    "\n",
    "sudo service mongodb stop\n",
    "mongod --dbpath ~/temp/mongo_data/\n",
    "\n",
    "use names\n",
    "db.data.remove()\n",
    "\n",
    "mongoimport -d names -c data --type json --file dutch-names/test.json\n",
    "mongoimport -d names -c data --type csv test.csv -headerline"
   ]
  },
  {
   "cell_type": "code",
   "execution_count": null,
   "metadata": {
    "collapsed": false
   },
   "outputs": [],
   "source": [
    "group[['birth_year', 'n_born', 'n_born_and_alive']].to_dict(orient='records')"
   ]
  },
  {
   "cell_type": "code",
   "execution_count": null,
   "metadata": {
    "collapsed": false
   },
   "outputs": [],
   "source": [
    "import json\n"
   ]
  },
  {
   "cell_type": "code",
   "execution_count": null,
   "metadata": {
    "collapsed": false
   },
   "outputs": [],
   "source": [
    "with open('out/anne.json', 'w') as f:\n",
    "    json.dump(d['Anne'], f)"
   ]
  },
  {
   "cell_type": "code",
   "execution_count": null,
   "metadata": {
    "collapsed": true
   },
   "outputs": [],
   "source": [
    "with open('out/names_export.json', 'w') as f:\n",
    "    json.dump(d, f)\n"
   ]
  },
  {
   "cell_type": "markdown",
   "metadata": {
    "collapsed": true
   },
   "source": [
    "<code>\n",
    "[\n",
    "    {\n",
    "    'name': 'Aaf',\n",
    "    'gender': 'female'\n",
    "    'data':\n",
    "        {\n",
    "        'first': \n",
    "            [\n",
    "                {\n",
    "                'year': 2015,\n",
    "                'n_born': 24,\n",
    "                'n_born_and_alive: 20,\n",
    "                },\n",
    "                {\n",
    "                'year': 2010,\n",
    "                'n_born': 10,\n",
    "                'n_born_and_alive': 2,\n",
    "                },\n",
    "            ]\n",
    "        'follow': \n",
    "            [\n",
    "                {\n",
    "                }\n",
    "                {\n",
    "                }\n",
    "            ]\n",
    "        }\n",
    "\n",
    "            }\n",
    "    },\n",
    "    {\n",
    "    'name': 'Anne' \n",
    "    },\n",
    "]\n",
    "</code>"
   ]
  },
  {
   "cell_type": "code",
   "execution_count": null,
   "metadata": {
    "collapsed": false
   },
   "outputs": [],
   "source": [
    "group[['birth_year', 'n_born']].to_dict(orient='records')\n",
    "#pd.DataFrame.to_dict()"
   ]
  },
  {
   "cell_type": "markdown",
   "metadata": {},
   "source": [
    "<code>mongoimport -d names -c data --type csv --file names/out/name_survival.csv -headerline</code>\n",
    "\n",
    "<code>mongod --dbpath ~/temp/mongo_data/</code>\n"
   ]
  },
  {
   "cell_type": "code",
   "execution_count": null,
   "metadata": {
    "collapsed": false
   },
   "outputs": [],
   "source": [
    "henk = name_survival[(name_survival.name == u'Daniël') & (name_survival.gender == 'male') &\n",
    "                     (name_survival.name_type == 'first')]\n",
    "henk.set_index('birth_year')[['n_born', 'n_born_and_alive']].plot()\n",
    "henk = name_survival[(name_survival.name == 'Hendrikus') & (name_survival.gender == 'male') &\n",
    "                     (name_survival.name_type == 'first')]\n",
    "henk.set_index('birth_year')[['n_born', 'n_born_and_alive']].plot()"
   ]
  },
  {
   "cell_type": "code",
   "execution_count": null,
   "metadata": {
    "collapsed": false
   },
   "outputs": [],
   "source": [
    "henk = name_survival[(name_survival.name == u'Daniël') & (name_survival.gender == 'male') &\n",
    "                     (name_survival.name_type == 'first')]\n",
    "henk.set_index('birth_year')[['n_born', 'n_born_and_alive', 'n_dead']].plot()\n",
    "henk = name_survival[(name_survival.name == u'Willem') & (name_survival.gender == 'male') &\n",
    "                     (name_survival.name_type == 'first')]\n",
    "henk.set_index('birth_year')[['n_born', 'n_born_and_alive', 'n_dead']].plot()"
   ]
  },
  {
   "cell_type": "code",
   "execution_count": null,
   "metadata": {
    "collapsed": false
   },
   "outputs": [],
   "source": [
    "pd.Series(export.name.unique()).to_json('out/names.json', orient='values')"
   ]
  },
  {
   "cell_type": "markdown",
   "metadata": {},
   "source": [
    "### Ideas:\n",
    "<li> Total deaths per name\n",
    "<li> Cumulative deaths vs cumulative born"
   ]
  }
 ],
 "metadata": {
  "kernelspec": {
   "display_name": "Python 2",
   "language": "python",
   "name": "python2"
  },
  "language_info": {
   "codemirror_mode": {
    "name": "ipython",
    "version": 2
   },
   "file_extension": ".py",
   "mimetype": "text/x-python",
   "name": "python",
   "nbconvert_exporter": "python",
   "pygments_lexer": "ipython2",
   "version": "2.7.6"
  }
 },
 "nbformat": 4,
 "nbformat_minor": 0
}
