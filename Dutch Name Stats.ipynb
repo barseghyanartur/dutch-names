{
 "cells": [
  {
   "cell_type": "code",
   "execution_count": null,
   "metadata": {
    "collapsed": false
   },
   "outputs": [],
   "source": [
    "import numpy as np\n",
    "import pandas as pd\n",
    "import seaborn as sns\n",
    "from matplotlib import pyplot as plt\n",
    "\n",
    "%matplotlib inline\n",
    "plt.style.use('ggplot')"
   ]
  },
  {
   "cell_type": "markdown",
   "metadata": {},
   "source": [
    "##  Names to scrape for details"
   ]
  },
  {
   "cell_type": "code",
   "execution_count": null,
   "metadata": {
    "collapsed": false
   },
   "outputs": [],
   "source": [
    "name_list = pd.read_json('data/names_list.json')"
   ]
  },
  {
   "cell_type": "code",
   "execution_count": null,
   "metadata": {
    "collapsed": false
   },
   "outputs": [],
   "source": [
    "name_list[name_list.name == 'Anne']"
   ]
  },
  {
   "cell_type": "code",
   "execution_count": null,
   "metadata": {
    "collapsed": true
   },
   "outputs": [],
   "source": [
    "# scrapeable_females = name_list.ix[(name_list.total_female > 4), 'name']\n",
    "# scrapeable_males = name_list.ix[(name_list.total_male > 4), 'name']\n",
    "# scrapeable_females.to_csv('data/scrapeable_females.csv', index=False, encoding='utf-8')\n",
    "# scrapeable_males.to_csv('data/scrapeable_males.csv', index=False, encoding='utf-8')"
   ]
  },
  {
   "cell_type": "markdown",
   "metadata": {
    "collapsed": true
   },
   "source": [
    "## 1. Birth rates"
   ]
  },
  {
   "cell_type": "code",
   "execution_count": null,
   "metadata": {
    "collapsed": true
   },
   "outputs": [],
   "source": [
    "MIN_YEAR = 1880\n",
    "MAX_YEAR = 2014\n",
    "PERIOD_SIZE = 5\n",
    "lower_boundary_fcn = lambda x: (((x - 1) / PERIOD_SIZE) * \n",
    "                                PERIOD_SIZE + 1)\n",
    "min_period = lower_boundary_fcn(MIN_YEAR)\n",
    "max_period = lower_boundary_fcn(MAX_YEAR + 2 * PERIOD_SIZE)"
   ]
  },
  {
   "cell_type": "markdown",
   "metadata": {},
   "source": [
    "Load the file with detailed stats per name."
   ]
  },
  {
   "cell_type": "code",
   "execution_count": null,
   "metadata": {
    "collapsed": false
   },
   "outputs": [],
   "source": [
    "details = pd.read_json('data/details.json')\n",
    "names_with_details = details[details.has_details]\n",
    "names_with_details.head(2)"
   ]
  },
  {
   "cell_type": "code",
   "execution_count": null,
   "metadata": {
    "collapsed": false
   },
   "outputs": [],
   "source": [
    "names_with_details[names_with_details.name == 'Anne']"
   ]
  },
  {
   "cell_type": "markdown",
   "metadata": {},
   "source": [
    "We're mostly interested in: \n",
    "<li> <code>name</code> </li>\n",
    "<li> <code>gender</code> </li>\n",
    "<li> <code>name_type</code>: whether it's a first name or a follow name </li>\n",
    "<li> <code>value</code>: list with # births per year </li>\n",
    "<li> <code>approximation</code>: list with approximated # births per year </li>\n",
    "<li> <code>year</code>: array indexing value and approximation </li>\n",
    "\n",
    "<p>\n",
    "Unfortunately, value, approximation and year are lists contained in cells in the DataFrame, so we have to do some pandas magic (hidden in the function <code>get_births</code>) to unpack the data."
   ]
  },
  {
   "cell_type": "code",
   "execution_count": null,
   "metadata": {
    "collapsed": false
   },
   "outputs": [],
   "source": [
    "def get_births(df, id_vars, cols, var_name='ii'):\n",
    "    \"\"\"\n",
    "    Parse scraped data and get birth stats.\n",
    "    \n",
    "    :param df: DataFrame with scraped data\n",
    "    :param id_vars: columns to use as identifiers\n",
    "    :param cols: columns with values to unpack\n",
    "    :param var_name: dummy variable name\n",
    "    :returns DataFrame with unpacked data\n",
    "    \"\"\"\n",
    "    births = pd.concat([convert_and_index(df, id_vars, var_name, p) for p \n",
    "                        in cols], axis=1)\n",
    "    births.reset_index(inplace=True)\n",
    "    births.drop(var_name, axis=1, inplace=True)\n",
    "    return births\n",
    "\n",
    "\n",
    "def convert_and_index(df, id_vars, var_name, value_name):\n",
    "    \"\"\"\n",
    "    Wrapper function for convert_nested_to_long: also sets id_vars\n",
    "    and var_name as index.\n",
    "    \n",
    "    :param df: DataFrame\n",
    "    :param id_vars: List to use as identified variables\n",
    "    :param var_name: Name to use for the variable column\n",
    "    :param value_name: Column name to unpack.\n",
    "    :returns DataFrame with column data in long format\n",
    "    \"\"\"\n",
    "    converted = convert_nested_to_long(df, id_vars, var_name, value_name)\n",
    "    return converted.set_index(id_vars + [var_name])\n",
    "\n",
    "\n",
    "def convert_nested_to_long(df, id_vars, var_name, value_name):\n",
    "    \"\"\"\n",
    "    Convert lists nested in cells in a column to a DataFrame in long\n",
    "    format.\n",
    "    \n",
    "    :param df: DataFrame\n",
    "    :param id_vars: List to use as identified variables\n",
    "    :param var_name: Name to use for the variable column\n",
    "    :param value_name: Column name to unpack.\n",
    "    :returns DataFrame with column data in long format\n",
    "    \"\"\"\n",
    "    indexed = df.set_index(id_vars)\n",
    "    unnested = indexed[value_name].apply(pd.Series).reset_index()\n",
    "    long_format = pd.melt(unnested, id_vars=id_vars, \n",
    "                          var_name=var_name, value_name=value_name)\n",
    "    return long_format"
   ]
  },
  {
   "cell_type": "code",
   "execution_count": null,
   "metadata": {
    "collapsed": false
   },
   "outputs": [],
   "source": [
    "births = get_births(names_with_details, ['name', 'gender', 'name_type'],\n",
    "                    ['year', 'value', 'approximation'])"
   ]
  },
  {
   "cell_type": "markdown",
   "metadata": {},
   "source": [
    "The function <code>convert_nested_to_long</code> converts the columns <code>year</code>, <code>value</code> and <code>approximation</code> individually. The lists in the cells of the column are converted to a <code>Series</code>, effectively turning the 1D column with lists into a 2D <code>DataFrame</code>. The data is then transformed from wide to long format by melting the <code>DataFrame</code>. Setting the index with the name, gender and name type preserves these index values during the transformation"
   ]
  },
  {
   "cell_type": "code",
   "execution_count": null,
   "metadata": {
    "collapsed": false
   },
   "outputs": [],
   "source": [
    "temp_name = names_with_details[names_with_details.name == 'Aad']\n",
    "temp_name.iloc[0]"
   ]
  },
  {
   "cell_type": "code",
   "execution_count": null,
   "metadata": {
    "collapsed": false
   },
   "outputs": [],
   "source": [
    "wide_name = temp_name.set_index(['name', 'gender', 'name_type'])['approximation'].apply(pd.Series)\n",
    "wide_name"
   ]
  },
  {
   "cell_type": "code",
   "execution_count": null,
   "metadata": {
    "collapsed": false
   },
   "outputs": [],
   "source": [
    "pd.melt(wide_name.reset_index(), id_vars=['name', 'gender', 'name_type'], \n",
    "        var_name='ii', value_name='approximation').head()"
   ]
  },
  {
   "cell_type": "markdown",
   "metadata": {},
   "source": [
    "The processsed result looks like:"
   ]
  },
  {
   "cell_type": "code",
   "execution_count": null,
   "metadata": {
    "collapsed": false
   },
   "outputs": [],
   "source": [
    "births.head()"
   ]
  },
  {
   "cell_type": "markdown",
   "metadata": {},
   "source": [
    "Approximate births are given for years that don't have exact data, so we would like to use approximations if no real values are given. "
   ]
  },
  {
   "cell_type": "code",
   "execution_count": null,
   "metadata": {
    "collapsed": false
   },
   "outputs": [],
   "source": [
    "# Combine approximate & exact stats \n",
    "births['n_born'] = births.approximation\n",
    "has_value = births.value > 0 \n",
    "births.ix[has_value, 'n_born'] = births.ix[has_value, 'value']\n",
    "# Tidy up\n",
    "births.drop(['value', 'approximation'], axis=1, inplace=True)\n",
    "births['year'] = births['year'].astype(int)\n",
    "births.rename(columns={'year': 'birth_year'}, inplace=True)"
   ]
  },
  {
   "cell_type": "markdown",
   "metadata": {},
   "source": [
    "To compute the sums of the births for both name types or both genders, group over the all other identifying columns, and sum the number of births. Append the resulting <code>DataFrame</code> to the original one."
   ]
  },
  {
   "cell_type": "code",
   "execution_count": null,
   "metadata": {
    "collapsed": false
   },
   "outputs": [],
   "source": [
    "def append_sums(df, id_vars, value_vars, id_name, id_value):\n",
    "    \"\"\"\n",
    "    Append sum aggregates.\n",
    "    \n",
    "    :param df: DataFrame\n",
    "    :param id_vars: Column(s) to use as identifier variables\n",
    "    :param value_vars: Column(s) to sum\n",
    "    :param agg_name: Column to aggregate \n",
    "    :param agg_value: Value to use as identifier in aggregated column\n",
    "    :returns DataFrame with aggregated sums appended\n",
    "    \"\"\"\n",
    "    totals = df.groupby(id_vars, as_index=False)[value_vars].sum()\n",
    "    totals[id_name] = id_value\n",
    "    df = df[df[id_name] != id_value].append(totals, ignore_index=True)\n",
    "    return df"
   ]
  },
  {
   "cell_type": "code",
   "execution_count": null,
   "metadata": {
    "collapsed": false
   },
   "outputs": [],
   "source": [
    "births = append_sums(births, ['name', 'gender', 'birth_year'],\n",
    "                     'n_born', 'name_type', 'total')\n",
    "births = append_sums(births, ['name', 'name_type', 'birth_year'],\n",
    "                     'n_born', 'gender', 'both')"
   ]
  },
  {
   "cell_type": "markdown",
   "metadata": {},
   "source": [
    "Mortality rates are given for bins of 5 years, use <code>pd.cut</code> to assign bins for later use (IS THIS TRUE?)."
   ]
  },
  {
   "cell_type": "code",
   "execution_count": null,
   "metadata": {
    "collapsed": true
   },
   "outputs": [],
   "source": [
    "# Bin the years in bins ofo 5 years\n",
    "period_bins = range(min_period, max_period, PERIOD_SIZE)\n",
    "births['begin_period'] = pd.cut(births.birth_year, period_bins, \n",
    "                               labels=period_bins[:-1], right=False)"
   ]
  },
  {
   "cell_type": "markdown",
   "metadata": {},
   "source": [
    "The end result looks like:"
   ]
  },
  {
   "cell_type": "code",
   "execution_count": null,
   "metadata": {
    "collapsed": false
   },
   "outputs": [],
   "source": [
    "births.head()"
   ]
  },
  {
   "cell_type": "markdown",
   "metadata": {},
   "source": [
    "And we can already plot the yearly birth rates for a name:"
   ]
  },
  {
   "cell_type": "code",
   "execution_count": null,
   "metadata": {
    "collapsed": false
   },
   "outputs": [],
   "source": [
    "NAME = 'Anne'\n",
    "id_cols = ['name_type', 'gender']\n",
    "current_births = births[births.name == NAME]\n",
    "\n",
    "fig, ax = plt.subplots(3, 3, figsize=(10, 10), sharex=True, sharey=True)\n",
    "ax = ax.reshape(-1)  # Reshape the list for easy iteraton\n",
    "for i_plot, (key, group) in enumerate(current_births.groupby(id_cols)):\n",
    "    group.plot(x='birth_year', y='n_born', ax=ax[i_plot],\n",
    "               title=' '.join(key), rot=45)\n",
    "    ax[i_plot].legend([])\n",
    "    ax[i_plot].set_ylabel('# births')\n",
    "fig.tight_layout()"
   ]
  },
  {
   "cell_type": "markdown",
   "metadata": {},
   "source": [
    "## 2. Mortality rates "
   ]
  },
  {
   "cell_type": "code",
   "execution_count": null,
   "metadata": {
    "collapsed": false
   },
   "outputs": [],
   "source": [
    "mortality = pd.read_csv('data/levensverwachting_cbs.csv', delimiter=';', skiprows=2, encoding='utf-8')\n",
    "mortality.columns = ['period', 'gender', 'age', 'proba']\n",
    "mortality['age'] = mortality.age.str.replace(',', '.').str.split(' ').apply(lambda x: float(x[0]))\n",
    "mortality['gender'] = mortality.gender.map({'Mannen': 'male', 'Vrouwen': 'female'})\n",
    "mortality['begin_period'] = mortality.period.apply(lambda x: x[:4]).astype(int)\n",
    "mortality.drop('period', axis=1, inplace=True)"
   ]
  },
  {
   "cell_type": "code",
   "execution_count": null,
   "metadata": {
    "collapsed": false
   },
   "outputs": [],
   "source": [
    "def interpolate_age_proba(df):\n",
    "    groupby_cols = ['gender', 'begin_period']\n",
    "    interpolate_axis = np.arange(0, df.age.max() + 0.5, 0.5)\n",
    "    new_axis = interpolate_axis[::2]\n",
    "    groups = df.groupby(groupby_cols)\n",
    "    age_fcn = lambda x: interpolate_col(x, 'age', interpolate_axis, new_axis)\n",
    "    interpolated = groups.apply(age_fcn)\n",
    "    return interpolated.drop(groupby_cols, axis=1).reset_index()\n",
    "\n",
    "\n",
    "def interpolate_col(g, col, interpolate_axis, new_axis):\n",
    "    reindex_g = g.set_index(col).reindex(interpolate_axis)\n",
    "    interpolated_g = reindex_g.apply(pd.Series.interpolate)\n",
    "    return interpolated_g.ix[new_axis]\n",
    "\n",
    "\n",
    "def fill_missing_periods(df, new_axis):\n",
    "    groupby_cols = ['gender', 'age']\n",
    "    groups = df.groupby(groupby_cols)\n",
    "    filled = groups.apply(lambda x: fill_group(x, new_axis))\n",
    "    return filled.reset_index(drop=True)\n",
    "    \n",
    "def fill_group(g, new_axis):\n",
    "    reindex_g = g.set_index('begin_period').reindex(new_axis)\n",
    "    filled = reindex_g.fillna(method='ffill').reset_index()\n",
    "    return filled"
   ]
  },
  {
   "cell_type": "code",
   "execution_count": null,
   "metadata": {
    "collapsed": false
   },
   "outputs": [],
   "source": [
    "interpolated_mortality = interpolate_age_proba(mortality)\n",
    "filled_mortality = fill_missing_periods(interpolated_mortality, period_bins)\n",
    "years_in_period = births[['birth_year', 'begin_period']].drop_duplicates()\n",
    "yearly_mortality = pd.merge(filled_mortality, years_in_period)"
   ]
  },
  {
   "cell_type": "code",
   "execution_count": null,
   "metadata": {
    "collapsed": true
   },
   "outputs": [],
   "source": [
    "def compute_survival_rate(df, birth_year):\n",
    "    is_born = (df.birth_year - df.age == birth_year)\n",
    "    survival_rate = (1 - df.ix[is_born, 'proba']).prod()\n",
    "    return survival_rate\n",
    "\n",
    "def get_cohort_survival(df, year):\n",
    "    survival_gen = ((birth_year, compute_survival_rate(df, birth_year)) \n",
    "                    for birth_year in range(year - 100, year + 1))\n",
    "    cohort_survival = pd.DataFrame(survival_gen, columns=['birth_year', 'survival_rate'])\n",
    "    cohort_survival['year'] = year\n",
    "    return cohort_survival\n",
    "\n",
    "def get_historical_survival(df, valid_years):\n",
    "    historical_survival = pd.concat([get_cohort_survival(df, year) for year in valid_years], \n",
    "                                    axis=0)\n",
    "    return historical_survival"
   ]
  },
  {
   "cell_type": "code",
   "execution_count": null,
   "metadata": {
    "collapsed": false
   },
   "outputs": [],
   "source": [
    "yearly_mortality.max()"
   ]
  },
  {
   "cell_type": "code",
   "execution_count": null,
   "metadata": {
    "collapsed": false
   },
   "outputs": [],
   "source": [
    "valid_years = range(yearly_mortality.begin_period.min() + 100, yearly_mortality.begin_period.max() + 5)\n",
    "historical_survival_fcn = lambda x: get_historical_survival(x, valid_years)\n",
    "survival_rates = yearly_mortality.groupby('gender').apply(historical_survival_fcn)\n",
    "survival_rates.reset_index(level=0, inplace=True)"
   ]
  },
  {
   "cell_type": "code",
   "execution_count": null,
   "metadata": {
    "collapsed": false
   },
   "outputs": [],
   "source": [
    "YEAR = 2014\n",
    "rates = survival_rates[survival_rates.year == YEAR]"
   ]
  },
  {
   "cell_type": "code",
   "execution_count": null,
   "metadata": {
    "collapsed": false
   },
   "outputs": [],
   "source": [
    "name_survival = pd.merge(births, rates)\n",
    "name_survival['n_born_and_alive'] = name_survival.n_born * name_survival.survival_rate\n",
    "name_survival['n_dead'] = name_survival.n_born - name_survival.n_born_and_alive"
   ]
  },
  {
   "cell_type": "code",
   "execution_count": null,
   "metadata": {
    "collapsed": false
   },
   "outputs": [],
   "source": [
    "name_survival.head()"
   ]
  },
  {
   "cell_type": "code",
   "execution_count": null,
   "metadata": {
    "collapsed": false
   },
   "outputs": [],
   "source": [
    "value_cols = ['birth_year', 'n_born', 'n_born_and_alive', 'n_dead']\n",
    "index_cols = ['name', 'name_type', 'gender'] \n",
    "export = pd.DataFrame({e: name_survival.groupby(index_cols)[e].apply(list) for \n",
    "                       e in value_cols}).reset_index()"
   ]
  },
  {
   "cell_type": "code",
   "execution_count": null,
   "metadata": {
    "collapsed": false
   },
   "outputs": [],
   "source": [
    "export.head()"
   ]
  },
  {
   "cell_type": "code",
   "execution_count": null,
   "metadata": {
    "collapsed": false
   },
   "outputs": [],
   "source": [
    "#export.to_csv('out/name_survival.csv', index=False, encoding='utf-8')"
   ]
  },
  {
   "cell_type": "code",
   "execution_count": null,
   "metadata": {
    "collapsed": false
   },
   "outputs": [],
   "source": [
    "#name_survival.to_csv('out/name_survival.csv', index=False, encoding='utf-8')"
   ]
  },
  {
   "cell_type": "code",
   "execution_count": null,
   "metadata": {
    "collapsed": true
   },
   "outputs": [],
   "source": [
    "# See https://stackoverflow.com/questions/23433237/pandas-long-form-table-to-nested-json?rq=1\n",
    "\n",
    "class NestedDict(dict):\n",
    "    def __missing__(self, key):\n",
    "        self[key] = NestedDict()\n",
    "        return self[key]"
   ]
  },
  {
   "cell_type": "code",
   "execution_count": null,
   "metadata": {
    "collapsed": false
   },
   "outputs": [],
   "source": [
    "name_survival[['birth_year', 'n_born']] = name_survival[['birth_year', 'n_born']].applymap(np.round)\n",
    "name_survival[['birth_year', 'n_born']] = name_survival[['birth_year', 'n_born']].astype(int)"
   ]
  },
  {
   "cell_type": "code",
   "execution_count": null,
   "metadata": {
    "collapsed": false
   },
   "outputs": [],
   "source": [
    "d = NestedDict()\n",
    "for key, group in name_survival.groupby(['name', 'gender', 'name_type']):\n",
    "    d[key[0]][key[1]][key[2]]['data'] = group[['birth_year', 'n_born', 'n_born_and_alive']].to_dict(orient='records')\n"
   ]
  },
  {
   "cell_type": "code",
   "execution_count": null,
   "metadata": {
    "collapsed": false
   },
   "outputs": [],
   "source": [
    "import json\n"
   ]
  },
  {
   "cell_type": "code",
   "execution_count": null,
   "metadata": {
    "collapsed": false
   },
   "outputs": [],
   "source": [
    "with open('out/anne.json', 'w') as f:\n",
    "    json.dump(d['Anne'], f)"
   ]
  },
  {
   "cell_type": "code",
   "execution_count": null,
   "metadata": {
    "collapsed": true
   },
   "outputs": [],
   "source": [
    "with open('out/names_export.json', 'w') as f:\n",
    "    json.dump(d, f)\n"
   ]
  },
  {
   "cell_type": "markdown",
   "metadata": {
    "collapsed": true
   },
   "source": [
    "<code>\n",
    "[\n",
    "    {\n",
    "    'name': 'Aaf',\n",
    "    'gender': 'female'\n",
    "    'data':\n",
    "        {\n",
    "        'first': \n",
    "            [\n",
    "                {\n",
    "                'year': 2015,\n",
    "                'n_born': 24,\n",
    "                'n_born_and_alive: 20,\n",
    "                },\n",
    "                {\n",
    "                'year': 2010,\n",
    "                'n_born': 10,\n",
    "                'n_born_and_alive': 2,\n",
    "                },\n",
    "            ]\n",
    "        'follow': \n",
    "            [\n",
    "                {\n",
    "                }\n",
    "                {\n",
    "                }\n",
    "            ]\n",
    "        }\n",
    "\n",
    "            }\n",
    "    },\n",
    "    {\n",
    "    'name': 'Anne' \n",
    "    },\n",
    "]\n",
    "</code>"
   ]
  },
  {
   "cell_type": "code",
   "execution_count": null,
   "metadata": {
    "collapsed": false
   },
   "outputs": [],
   "source": [
    "pd.DataFrame(d)"
   ]
  },
  {
   "cell_type": "code",
   "execution_count": null,
   "metadata": {
    "collapsed": false
   },
   "outputs": [],
   "source": [
    "group[['birth_year', 'n_born']].to_dict(orient='records')\n",
    "#pd.DataFrame.to_dict()"
   ]
  },
  {
   "cell_type": "code",
   "execution_count": null,
   "metadata": {
    "collapsed": true
   },
   "outputs": [],
   "source": []
  },
  {
   "cell_type": "code",
   "execution_count": null,
   "metadata": {
    "collapsed": false
   },
   "outputs": [],
   "source": [
    "aard.set_in"
   ]
  },
  {
   "cell_type": "code",
   "execution_count": null,
   "metadata": {
    "collapsed": false
   },
   "outputs": [],
   "source": [
    "{name: {male: {first: data, follow: data}}, female: {first: data, follow: data}}"
   ]
  },
  {
   "cell_type": "code",
   "execution_count": null,
   "metadata": {
    "collapsed": false
   },
   "outputs": [],
   "source": [
    "name_survival[[name_survival.gender == 'male')]]"
   ]
  },
  {
   "cell_type": "code",
   "execution_count": null,
   "metadata": {
    "collapsed": false
   },
   "outputs": [],
   "source": [
    "export.iloc[0].to_json('out/aad_male_first.json')"
   ]
  },
  {
   "cell_type": "markdown",
   "metadata": {},
   "source": [
    "<code>mongoimport -d names -c data --type csv --file names/out/name_survival.csv -headerline</code>\n",
    "\n",
    "<code>mongod --dbpath ~/temp/mongo_data/</code>\n"
   ]
  },
  {
   "cell_type": "code",
   "execution_count": null,
   "metadata": {
    "collapsed": false
   },
   "outputs": [],
   "source": [
    "henk = name_survival[(name_survival.name == u'Daniël') & (name_survival.gender == 'male') &\n",
    "                     (name_survival.name_type == 'first')]\n",
    "henk.set_index('birth_year')[['n_born', 'n_born_and_alive']].plot()\n",
    "henk = name_survival[(name_survival.name == 'Hendrikus') & (name_survival.gender == 'male') &\n",
    "                     (name_survival.name_type == 'first')]\n",
    "henk.set_index('birth_year')[['n_born', 'n_born_and_alive']].plot()"
   ]
  },
  {
   "cell_type": "code",
   "execution_count": null,
   "metadata": {
    "collapsed": false
   },
   "outputs": [],
   "source": [
    "henk = name_survival[(name_survival.name == u'Daniël') & (name_survival.gender == 'male') &\n",
    "                     (name_survival.name_type == 'first')]\n",
    "henk[['n_born', 'n_born_and_alive', 'n_dead']].plot()\n",
    "henk = name_survival[(name_survival.name == u'Willem') & (name_survival.gender == 'male') &\n",
    "                     (name_survival.name_type == 'first')]\n",
    "henk[['n_born', 'n_born_and_alive', 'n_dead']].plot()"
   ]
  },
  {
   "cell_type": "code",
   "execution_count": null,
   "metadata": {
    "collapsed": false
   },
   "outputs": [],
   "source": [
    "henk[['n_born', 'n_born_and_alive']].sum()"
   ]
  },
  {
   "cell_type": "code",
   "execution_count": null,
   "metadata": {
    "collapsed": false
   },
   "outputs": [],
   "source": [
    "pd.Series(export.name.unique()).to_json('out/names.json', orient='values')"
   ]
  },
  {
   "cell_type": "code",
   "execution_count": null,
   "metadata": {
    "collapsed": false
   },
   "outputs": [],
   "source": [
    "pd.DataFrame.to_json()"
   ]
  },
  {
   "cell_type": "markdown",
   "metadata": {},
   "source": [
    "### Ideas:\n",
    "<li> Total deaths per name\n",
    "<li> Cum deaths vs cum born"
   ]
  }
 ],
 "metadata": {
  "kernelspec": {
   "display_name": "Python 2",
   "language": "python",
   "name": "python2"
  },
  "language_info": {
   "codemirror_mode": {
    "name": "ipython",
    "version": 2
   },
   "file_extension": ".py",
   "mimetype": "text/x-python",
   "name": "python",
   "nbconvert_exporter": "python",
   "pygments_lexer": "ipython2",
   "version": "2.7.6"
  }
 },
 "nbformat": 4,
 "nbformat_minor": 0
}
