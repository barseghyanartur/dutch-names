{
 "cells": [
  {
   "cell_type": "code",
   "execution_count": 1,
   "metadata": {
    "collapsed": false
   },
   "outputs": [],
   "source": [
    "import matplotlib\n",
    "import numpy as np\n",
    "import pandas as pd\n",
    "from collections import OrderedDict\n",
    "\n",
    "# Plotting imports & settings\n",
    "%matplotlib inline\n",
    "import seaborn as sns\n",
    "from matplotlib import pyplot as plt\n",
    "from pylab import rcParams\n",
    "plt.style.use('ggplot')\n",
    "defaults = OrderedDict((('width', 12), ('height', 6)))\n",
    "rcParams['figure.figsize'] = defaults.values()\n",
    "rcParams['legend.frameon'] = True\n",
    "rcParams['legend.framealpha'] = 0.8"
   ]
  },
  {
   "cell_type": "markdown",
   "metadata": {},
   "source": [
    "## 0. Introduction"
   ]
  },
  {
   "cell_type": "markdown",
   "metadata": {},
   "source": [
    "Names contain a lot of information. It says something about your nationality (it's more likely that you will encounter a Pedro in Spain than in the Netherlands), or someone's age and gender -- as shown in FiveThirtyEight's [How to Tell Someone’s Age When All You Know Is Her Name](http://fivethirtyeight.com/features/how-to-tell-someones-age-when-all-you-know-is-her-name/). This IPython Notebook replicates the work of FiveThirtyEight for Dutch names.\n",
    "\n",
    "Age distributions show how likely it is to encounter someone with a given name and gender. These are obtained here by combining birth rates scraped from [Nederlandse Voornamenbank](http://meertens.knaw.nl/nvb/) with life expectancy rates from the [CBS](http://www.cbs.nl). Section 1 wrangles the scraped birth rates into usable data, section 2 transform the survival rates into yearly survival rates, and section 3 combines these data sets to obtain the age distributions."
   ]
  },
  {
   "cell_type": "markdown",
   "metadata": {
    "collapsed": true
   },
   "source": [
    "## 1. Birth rates"
   ]
  },
  {
   "cell_type": "markdown",
   "metadata": {},
   "source": [
    "This section converts scraped data into a form that is easy to use. The following steps are taken:\n",
    "* Remove entries that don't contain birth rates.\n",
    "* Convert the nested JSON data structure into structure that is easier to use.\n",
    "* Combine actual with estimated rates to get birth rates for each year.\n",
    "* Compute aggregates per name types."
   ]
  },
  {
   "cell_type": "markdown",
   "metadata": {},
   "source": [
    "#### Filter empty entries"
   ]
  },
  {
   "cell_type": "markdown",
   "metadata": {},
   "source": [
    "First load the file with detailed stats per name. Not all entries have details (data) for each scraped item."
   ]
  },
  {
   "cell_type": "code",
   "execution_count": 2,
   "metadata": {
    "collapsed": false
   },
   "outputs": [
    {
     "name": "stdout",
     "output_type": "stream",
     "text": [
      "16854 out of 128384 scraped item contain details (13%)\n"
     ]
    }
   ],
   "source": [
    "details = pd.read_json('data/details.json')\n",
    "names_with_details = details[details.has_details]\n",
    "print('%i out of %i scraped item contain details (%1.0f%%)' % \n",
    "      (len(names_with_details), len(details), \n",
    "       len(names_with_details) * 100. / len(details)))"
   ]
  },
  {
   "cell_type": "markdown",
   "metadata": {},
   "source": [
    "Each name can be scraped up to four times: each name can have entries for both genders and entries are further split up by first and follow names."
   ]
  },
  {
   "cell_type": "code",
   "execution_count": 3,
   "metadata": {
    "collapsed": false
   },
   "outputs": [
    {
     "data": {
      "text/html": [
       "<div>\n",
       "<table border=\"1\" class=\"dataframe\">\n",
       "  <thead>\n",
       "    <tr style=\"text-align: right;\">\n",
       "      <th></th>\n",
       "      <th>approximation</th>\n",
       "      <th>first_count</th>\n",
       "      <th>first_percent</th>\n",
       "      <th>follow_count</th>\n",
       "      <th>follow_percent</th>\n",
       "      <th>gender</th>\n",
       "      <th>has_details</th>\n",
       "      <th>name</th>\n",
       "      <th>name_type</th>\n",
       "      <th>step_size</th>\n",
       "      <th>step_total_approximation</th>\n",
       "      <th>step_total_value</th>\n",
       "      <th>value</th>\n",
       "      <th>year</th>\n",
       "    </tr>\n",
       "  </thead>\n",
       "  <tbody>\n",
       "    <tr>\n",
       "      <th>2041</th>\n",
       "      <td>[5.54, 5.52, 5.63, 22.35, 10.51, 10.49, 25.25,...</td>\n",
       "      <td>29720</td>\n",
       "      <td>0.4005</td>\n",
       "      <td>25792</td>\n",
       "      <td>0.3493</td>\n",
       "      <td>female</td>\n",
       "      <td>True</td>\n",
       "      <td>Anne</td>\n",
       "      <td>first</td>\n",
       "      <td>[3, 3, 3, 1, 2, 2, 1, 2, 2, 1, 2, 2, 2, 2, 1, ...</td>\n",
       "      <td>[18.63, 17.48, 16.39, 22.35, 21.52, 20.32, 25....</td>\n",
       "      <td>[5, 5, 5, 7, 7, 7, 9, 10, 10, 6, 8, 8, 5, 5, 7...</td>\n",
       "      <td>[0.0, 0.0, 0.0, 0.0, 0.0, 0.0, 0.0, 0.0, 0.0, ...</td>\n",
       "      <td>[1880, 1881, 1882, 1883, 1884, 1885, 1886, 188...</td>\n",
       "    </tr>\n",
       "    <tr>\n",
       "      <th>38198</th>\n",
       "      <td>[0.0, 15.02, 15.34, 6.88, 7.08, 7.06, 6.36, 6....</td>\n",
       "      <td>29720</td>\n",
       "      <td>0.4005</td>\n",
       "      <td>25792</td>\n",
       "      <td>0.3493</td>\n",
       "      <td>female</td>\n",
       "      <td>True</td>\n",
       "      <td>Anne</td>\n",
       "      <td>follow</td>\n",
       "      <td>[0, 2, 2, 3, 3, 3, 3, 3, 3, 7, 7, 7, 7, 7, 7, ...</td>\n",
       "      <td>[0.0, 31.47, 29.51, 22.35, 21.52, 20.32, 19.64...</td>\n",
       "      <td>[0, 9, 9, 7, 7, 7, 7, 7, 7, 7, 7, 7, 7, 7, 7, ...</td>\n",
       "      <td>[0.0, 0.0, 0.0, 0.0, 0.0, 0.0, 0.0, 0.0, 0.0, ...</td>\n",
       "      <td>[1880, 1881, 1882, 1883, 1884, 1885, 1886, 188...</td>\n",
       "    </tr>\n",
       "    <tr>\n",
       "      <th>73886</th>\n",
       "      <td>[114.97, 109.08, 105.59, 151.97, 149.55, 137.2...</td>\n",
       "      <td>8606</td>\n",
       "      <td>0.1170</td>\n",
       "      <td>8482</td>\n",
       "      <td>0.1196</td>\n",
       "      <td>male</td>\n",
       "      <td>True</td>\n",
       "      <td>Anne</td>\n",
       "      <td>first</td>\n",
       "      <td>[1, 1, 1, 1, 1, 1, 1, 1, 1, 1, 1, 1, 1, 1, 1, ...</td>\n",
       "      <td>[114.97, 109.08, 105.59, 151.97, 149.55, 137.2...</td>\n",
       "      <td>[33, 34, 34, 50, 52, 50, 59, 54, 64, 57, 65, 7...</td>\n",
       "      <td>[0.0, 0.0, 0.0, 0.0, 0.0, 0.0, 0.0, 0.0, 0.0, ...</td>\n",
       "      <td>[1880, 1881, 1882, 1883, 1884, 1885, 1886, 188...</td>\n",
       "    </tr>\n",
       "    <tr>\n",
       "      <th>101921</th>\n",
       "      <td>[13.41, 13.35, 15.53, 15.2, 14.38, 19.22, 18.8...</td>\n",
       "      <td>8606</td>\n",
       "      <td>0.1170</td>\n",
       "      <td>8482</td>\n",
       "      <td>0.1196</td>\n",
       "      <td>male</td>\n",
       "      <td>True</td>\n",
       "      <td>Anne</td>\n",
       "      <td>follow</td>\n",
       "      <td>[2, 2, 1, 1, 1, 1, 1, 1, 1, 1, 2, 2, 1, 1, 1, ...</td>\n",
       "      <td>[27.87, 25.67, 15.53, 15.2, 14.38, 19.22, 18.8...</td>\n",
       "      <td>[8, 8, 5, 5, 5, 7, 7, 9, 11, 11, 20, 20, 11, 8...</td>\n",
       "      <td>[0.0, 0.0, 0.0, 0.0, 0.0, 0.0, 0.0, 0.0, 0.0, ...</td>\n",
       "      <td>[1880, 1881, 1882, 1883, 1884, 1885, 1886, 188...</td>\n",
       "    </tr>\n",
       "  </tbody>\n",
       "</table>\n",
       "</div>"
      ],
      "text/plain": [
       "                                            approximation  first_count  \\\n",
       "2041    [5.54, 5.52, 5.63, 22.35, 10.51, 10.49, 25.25,...        29720   \n",
       "38198   [0.0, 15.02, 15.34, 6.88, 7.08, 7.06, 6.36, 6....        29720   \n",
       "73886   [114.97, 109.08, 105.59, 151.97, 149.55, 137.2...         8606   \n",
       "101921  [13.41, 13.35, 15.53, 15.2, 14.38, 19.22, 18.8...         8606   \n",
       "\n",
       "        first_percent  follow_count  follow_percent  gender has_details  name  \\\n",
       "2041           0.4005         25792          0.3493  female        True  Anne   \n",
       "38198          0.4005         25792          0.3493  female        True  Anne   \n",
       "73886          0.1170          8482          0.1196    male        True  Anne   \n",
       "101921         0.1170          8482          0.1196    male        True  Anne   \n",
       "\n",
       "       name_type                                          step_size  \\\n",
       "2041       first  [3, 3, 3, 1, 2, 2, 1, 2, 2, 1, 2, 2, 2, 2, 1, ...   \n",
       "38198     follow  [0, 2, 2, 3, 3, 3, 3, 3, 3, 7, 7, 7, 7, 7, 7, ...   \n",
       "73886      first  [1, 1, 1, 1, 1, 1, 1, 1, 1, 1, 1, 1, 1, 1, 1, ...   \n",
       "101921    follow  [2, 2, 1, 1, 1, 1, 1, 1, 1, 1, 2, 2, 1, 1, 1, ...   \n",
       "\n",
       "                                 step_total_approximation  \\\n",
       "2041    [18.63, 17.48, 16.39, 22.35, 21.52, 20.32, 25....   \n",
       "38198   [0.0, 31.47, 29.51, 22.35, 21.52, 20.32, 19.64...   \n",
       "73886   [114.97, 109.08, 105.59, 151.97, 149.55, 137.2...   \n",
       "101921  [27.87, 25.67, 15.53, 15.2, 14.38, 19.22, 18.8...   \n",
       "\n",
       "                                         step_total_value  \\\n",
       "2041    [5, 5, 5, 7, 7, 7, 9, 10, 10, 6, 8, 8, 5, 5, 7...   \n",
       "38198   [0, 9, 9, 7, 7, 7, 7, 7, 7, 7, 7, 7, 7, 7, 7, ...   \n",
       "73886   [33, 34, 34, 50, 52, 50, 59, 54, 64, 57, 65, 7...   \n",
       "101921  [8, 8, 5, 5, 5, 7, 7, 9, 11, 11, 20, 20, 11, 8...   \n",
       "\n",
       "                                                    value  \\\n",
       "2041    [0.0, 0.0, 0.0, 0.0, 0.0, 0.0, 0.0, 0.0, 0.0, ...   \n",
       "38198   [0.0, 0.0, 0.0, 0.0, 0.0, 0.0, 0.0, 0.0, 0.0, ...   \n",
       "73886   [0.0, 0.0, 0.0, 0.0, 0.0, 0.0, 0.0, 0.0, 0.0, ...   \n",
       "101921  [0.0, 0.0, 0.0, 0.0, 0.0, 0.0, 0.0, 0.0, 0.0, ...   \n",
       "\n",
       "                                                     year  \n",
       "2041    [1880, 1881, 1882, 1883, 1884, 1885, 1886, 188...  \n",
       "38198   [1880, 1881, 1882, 1883, 1884, 1885, 1886, 188...  \n",
       "73886   [1880, 1881, 1882, 1883, 1884, 1885, 1886, 188...  \n",
       "101921  [1880, 1881, 1882, 1883, 1884, 1885, 1886, 188...  "
      ]
     },
     "execution_count": 3,
     "metadata": {},
     "output_type": "execute_result"
    }
   ],
   "source": [
    "names_with_details[names_with_details.name == 'Anne']"
   ]
  },
  {
   "cell_type": "markdown",
   "metadata": {},
   "source": [
    "#### Transform the data structure "
   ]
  },
  {
   "cell_type": "markdown",
   "metadata": {},
   "source": [
    "We're interested in: \n",
    "<li> <code>name</code> </li>\n",
    "<li> <code>gender</code> </li>\n",
    "<li> <code>name_type</code>: whether it's a first name or a follow name </li>\n",
    "<li> <code>value</code>: list with # births per year </li>\n",
    "<li> <code>approximation</code>: list with approximated # births per year </li>\n",
    "<li> <code>year</code>: array indexing value and approximation </li>\n",
    "\n",
    "<p>\n",
    "Unfortunately, value, approximation and year are lists contained in cells in the DataFrame (see the cell above), so we have to do some <code>pandas</code> magic (hidden in the function <code>get_births</code>) to unpack the data."
   ]
  },
  {
   "cell_type": "code",
   "execution_count": 4,
   "metadata": {
    "collapsed": false
   },
   "outputs": [],
   "source": [
    "def get_births(df, id_vars, cols, var_name='ii'):\n",
    "    \"\"\"\n",
    "    Parse scraped data and get birth stats.\n",
    "    \n",
    "    :param df: DataFrame with scraped data\n",
    "    :param id_vars: columns to use as identifiers\n",
    "    :param cols: columns with values to unpack\n",
    "    :param var_name: dummy variable name\n",
    "    :returns DataFrame with unpacked data\n",
    "    \"\"\"\n",
    "    births = pd.concat([convert_and_index(df, id_vars, var_name, p) for p \n",
    "                        in cols], axis=1)\n",
    "    births.reset_index(inplace=True)\n",
    "    births.drop(var_name, axis=1, inplace=True)\n",
    "    return births\n",
    "\n",
    "\n",
    "def convert_and_index(df, id_vars, var_name, value_name):\n",
    "    \"\"\"\n",
    "    Wrapper function for convert_nested_to_long: also sets id_vars\n",
    "    and var_name as index.\n",
    "    \n",
    "    :param df: DataFrame\n",
    "    :param id_vars: List to use as identified variables\n",
    "    :param var_name: Name to use for the variable column\n",
    "    :param value_name: Column name to unpack.\n",
    "    :returns DataFrame with column data in long format\n",
    "    \"\"\"\n",
    "    converted = convert_nested_to_long(df, id_vars, var_name, value_name)\n",
    "    return converted.set_index(id_vars + [var_name])\n",
    "\n",
    "\n",
    "def convert_nested_to_long(df, id_vars, var_name, value_name):\n",
    "    \"\"\"\n",
    "    Convert lists nested in cells in a column to a DataFrame in long\n",
    "    format.\n",
    "    \n",
    "    :param df: DataFrame\n",
    "    :param id_vars: List to use as identified variables\n",
    "    :param var_name: Name to use for the variable column\n",
    "    :param value_name: Column name to unpack.\n",
    "    :returns DataFrame with column data in long format\n",
    "    \"\"\"\n",
    "    indexed = df.set_index(id_vars)\n",
    "    unnested = indexed[value_name].apply(pd.Series).reset_index()\n",
    "    long_format = pd.melt(unnested, id_vars=id_vars, \n",
    "                          var_name=var_name, value_name=value_name)\n",
    "    return long_format"
   ]
  },
  {
   "cell_type": "code",
   "execution_count": 5,
   "metadata": {
    "collapsed": false
   },
   "outputs": [],
   "source": [
    "births = get_births(names_with_details, ['name', 'gender', 'name_type'],\n",
    "                    ['year', 'value', 'approximation'])"
   ]
  },
  {
   "cell_type": "markdown",
   "metadata": {},
   "source": [
    "The processsed result looks like:"
   ]
  },
  {
   "cell_type": "code",
   "execution_count": 6,
   "metadata": {
    "collapsed": false
   },
   "outputs": [
    {
     "data": {
      "text/html": [
       "<div>\n",
       "<table border=\"1\" class=\"dataframe\">\n",
       "  <thead>\n",
       "    <tr style=\"text-align: right;\">\n",
       "      <th></th>\n",
       "      <th>name</th>\n",
       "      <th>gender</th>\n",
       "      <th>name_type</th>\n",
       "      <th>year</th>\n",
       "      <th>value</th>\n",
       "      <th>approximation</th>\n",
       "    </tr>\n",
       "  </thead>\n",
       "  <tbody>\n",
       "    <tr>\n",
       "      <th>0</th>\n",
       "      <td>Aaf</td>\n",
       "      <td>female</td>\n",
       "      <td>first</td>\n",
       "      <td>1880</td>\n",
       "      <td>0</td>\n",
       "      <td>0.00</td>\n",
       "    </tr>\n",
       "    <tr>\n",
       "      <th>1</th>\n",
       "      <td>Aaffien</td>\n",
       "      <td>female</td>\n",
       "      <td>first</td>\n",
       "      <td>1880</td>\n",
       "      <td>0</td>\n",
       "      <td>9.10</td>\n",
       "    </tr>\n",
       "    <tr>\n",
       "      <th>2</th>\n",
       "      <td>Aafje</td>\n",
       "      <td>female</td>\n",
       "      <td>first</td>\n",
       "      <td>1880</td>\n",
       "      <td>0</td>\n",
       "      <td>126.69</td>\n",
       "    </tr>\n",
       "    <tr>\n",
       "      <th>3</th>\n",
       "      <td>Aafke</td>\n",
       "      <td>female</td>\n",
       "      <td>first</td>\n",
       "      <td>1880</td>\n",
       "      <td>0</td>\n",
       "      <td>115.51</td>\n",
       "    </tr>\n",
       "    <tr>\n",
       "      <th>4</th>\n",
       "      <td>Aagje</td>\n",
       "      <td>female</td>\n",
       "      <td>first</td>\n",
       "      <td>1880</td>\n",
       "      <td>0</td>\n",
       "      <td>182.58</td>\n",
       "    </tr>\n",
       "  </tbody>\n",
       "</table>\n",
       "</div>"
      ],
      "text/plain": [
       "      name  gender name_type  year  value  approximation\n",
       "0      Aaf  female     first  1880      0           0.00\n",
       "1  Aaffien  female     first  1880      0           9.10\n",
       "2    Aafje  female     first  1880      0         126.69\n",
       "3    Aafke  female     first  1880      0         115.51\n",
       "4    Aagje  female     first  1880      0         182.58"
      ]
     },
     "execution_count": 6,
     "metadata": {},
     "output_type": "execute_result"
    }
   ],
   "source": [
    "births.head()"
   ]
  },
  {
   "cell_type": "markdown",
   "metadata": {},
   "source": [
    "How was this done?\n",
    "\n",
    "The function <code>convert_nested_to_long</code> converts the columns <code>year</code>, <code>value</code> and <code>approximation</code> individually. The lists in the cells of the column are converted to a <code>Series</code>, effectively turning the 1D column with lists into a 2D <code>DataFrame</code>. The data is then transformed from wide to long format by melting the <code>DataFrame</code>. Setting the index with the name, gender and name type preserves these index values during the transformation. \n",
    "\n",
    "Right. Let's take a look at a single entry."
   ]
  },
  {
   "cell_type": "code",
   "execution_count": 7,
   "metadata": {
    "collapsed": false
   },
   "outputs": [
    {
     "data": {
      "text/plain": [
       "approximation               [0.0, 0.0, 0.1, 0.1, 0.1, 0.1, 0.11, 0.1, 0.11...\n",
       "first_count                                                               128\n",
       "first_percent                                                          0.0017\n",
       "follow_count                                                              162\n",
       "follow_percent                                                         0.0023\n",
       "gender                                                                   male\n",
       "has_details                                                              True\n",
       "name                                                                      Aad\n",
       "name_type                                                               first\n",
       "step_size                   [0, 0, 66, 66, 66, 66, 66, 66, 66, 66, 66, 66,...\n",
       "step_total_approximation    [0.0, 0.0, 18.63, 18.24, 17.26, 16.47, 16.14, ...\n",
       "step_total_value            [0, 0, 6, 6, 6, 6, 6, 6, 6, 6, 6, 6, 6, 6, 6, ...\n",
       "value                       [0.0, 0.0, 0.0, 0.0, 0.0, 0.0, 0.0, 0.0, 0.0, ...\n",
       "year                        [1880, 1881, 1882, 1883, 1884, 1885, 1886, 188...\n",
       "Name: 72316, dtype: object"
      ]
     },
     "execution_count": 7,
     "metadata": {},
     "output_type": "execute_result"
    }
   ],
   "source": [
    "temp_name = names_with_details[names_with_details.name == 'Aad']\n",
    "temp_name.iloc[0]"
   ]
  },
  {
   "cell_type": "markdown",
   "metadata": {},
   "source": [
    "Name, gender and name type are all single elements, but value, approximation and year are not: the cells for value, approximation and year contains lists instead of single elements. We want to unpack the lists nested in cells and convert them to rows of data. This can be done by setting <code>(name, gender name type)</code> as the index and converting the nested list to a Series. (Luckily the lists are all of equal size.)"
   ]
  },
  {
   "cell_type": "code",
   "execution_count": 8,
   "metadata": {
    "collapsed": false
   },
   "outputs": [
    {
     "data": {
      "text/html": [
       "<div>\n",
       "<table border=\"1\" class=\"dataframe\">\n",
       "  <thead>\n",
       "    <tr style=\"text-align: right;\">\n",
       "      <th></th>\n",
       "      <th></th>\n",
       "      <th></th>\n",
       "      <th>0</th>\n",
       "      <th>1</th>\n",
       "      <th>2</th>\n",
       "      <th>3</th>\n",
       "      <th>4</th>\n",
       "      <th>5</th>\n",
       "      <th>6</th>\n",
       "      <th>7</th>\n",
       "      <th>8</th>\n",
       "      <th>9</th>\n",
       "      <th>...</th>\n",
       "      <th>125</th>\n",
       "      <th>126</th>\n",
       "      <th>127</th>\n",
       "      <th>128</th>\n",
       "      <th>129</th>\n",
       "      <th>130</th>\n",
       "      <th>131</th>\n",
       "      <th>132</th>\n",
       "      <th>133</th>\n",
       "      <th>134</th>\n",
       "    </tr>\n",
       "    <tr>\n",
       "      <th>name</th>\n",
       "      <th>gender</th>\n",
       "      <th>name_type</th>\n",
       "      <th></th>\n",
       "      <th></th>\n",
       "      <th></th>\n",
       "      <th></th>\n",
       "      <th></th>\n",
       "      <th></th>\n",
       "      <th></th>\n",
       "      <th></th>\n",
       "      <th></th>\n",
       "      <th></th>\n",
       "      <th></th>\n",
       "      <th></th>\n",
       "      <th></th>\n",
       "      <th></th>\n",
       "      <th></th>\n",
       "      <th></th>\n",
       "      <th></th>\n",
       "      <th></th>\n",
       "      <th></th>\n",
       "      <th></th>\n",
       "      <th></th>\n",
       "    </tr>\n",
       "  </thead>\n",
       "  <tbody>\n",
       "    <tr>\n",
       "      <th rowspan=\"2\" valign=\"top\">Aad</th>\n",
       "      <th rowspan=\"2\" valign=\"top\">male</th>\n",
       "      <th>first</th>\n",
       "      <td>0</td>\n",
       "      <td>0</td>\n",
       "      <td>0.1</td>\n",
       "      <td>0.1</td>\n",
       "      <td>0.1</td>\n",
       "      <td>0.1</td>\n",
       "      <td>0.11</td>\n",
       "      <td>0.1</td>\n",
       "      <td>0.11</td>\n",
       "      <td>0.11</td>\n",
       "      <td>...</td>\n",
       "      <td>0.41</td>\n",
       "      <td>0.41</td>\n",
       "      <td>0</td>\n",
       "      <td>0</td>\n",
       "      <td>0</td>\n",
       "      <td>0</td>\n",
       "      <td>0</td>\n",
       "      <td>0</td>\n",
       "      <td>0.00</td>\n",
       "      <td>0</td>\n",
       "    </tr>\n",
       "    <tr>\n",
       "      <th>follow</th>\n",
       "      <td>0</td>\n",
       "      <td>0</td>\n",
       "      <td>0.0</td>\n",
       "      <td>0.0</td>\n",
       "      <td>0.0</td>\n",
       "      <td>0.0</td>\n",
       "      <td>0.00</td>\n",
       "      <td>0.0</td>\n",
       "      <td>0.00</td>\n",
       "      <td>0.00</td>\n",
       "      <td>...</td>\n",
       "      <td>0.00</td>\n",
       "      <td>0.00</td>\n",
       "      <td>0</td>\n",
       "      <td>0</td>\n",
       "      <td>0</td>\n",
       "      <td>0</td>\n",
       "      <td>0</td>\n",
       "      <td>0</td>\n",
       "      <td>6.12</td>\n",
       "      <td>0</td>\n",
       "    </tr>\n",
       "  </tbody>\n",
       "</table>\n",
       "<p>2 rows × 135 columns</p>\n",
       "</div>"
      ],
      "text/plain": [
       "                       0    1    2    3    4    5     6    7     8     9    \\\n",
       "name gender name_type                                                        \n",
       "Aad  male   first        0    0  0.1  0.1  0.1  0.1  0.11  0.1  0.11  0.11   \n",
       "            follow       0    0  0.0  0.0  0.0  0.0  0.00  0.0  0.00  0.00   \n",
       "\n",
       "                      ...    125   126  127  128  129  130  131  132   133  \\\n",
       "name gender name_type ...                                                    \n",
       "Aad  male   first     ...   0.41  0.41    0    0    0    0    0    0  0.00   \n",
       "            follow    ...   0.00  0.00    0    0    0    0    0    0  6.12   \n",
       "\n",
       "                       134  \n",
       "name gender name_type       \n",
       "Aad  male   first        0  \n",
       "            follow       0  \n",
       "\n",
       "[2 rows x 135 columns]"
      ]
     },
     "execution_count": 8,
     "metadata": {},
     "output_type": "execute_result"
    }
   ],
   "source": [
    "wide_name = (temp_name\n",
    "             .set_index(['name', 'gender', 'name_type'])\n",
    "             ['approximation'].apply(pd.Series))\n",
    "wide_name"
   ]
  },
  {
   "cell_type": "markdown",
   "metadata": {},
   "source": [
    "For easier user we now only have to transform the data from wide to [long/tidy](http://vita.had.co.nz/papers/tidy-data.pdf) with <code>pd.melt()</code>. Column <code>ii</code> gives the original position of the columns."
   ]
  },
  {
   "cell_type": "code",
   "execution_count": 9,
   "metadata": {
    "collapsed": false
   },
   "outputs": [
    {
     "data": {
      "text/html": [
       "<div>\n",
       "<table border=\"1\" class=\"dataframe\">\n",
       "  <thead>\n",
       "    <tr style=\"text-align: right;\">\n",
       "      <th></th>\n",
       "      <th>name</th>\n",
       "      <th>gender</th>\n",
       "      <th>name_type</th>\n",
       "      <th>ii</th>\n",
       "      <th>approximation</th>\n",
       "    </tr>\n",
       "  </thead>\n",
       "  <tbody>\n",
       "    <tr>\n",
       "      <th>0</th>\n",
       "      <td>Aad</td>\n",
       "      <td>male</td>\n",
       "      <td>first</td>\n",
       "      <td>0</td>\n",
       "      <td>0.0</td>\n",
       "    </tr>\n",
       "    <tr>\n",
       "      <th>1</th>\n",
       "      <td>Aad</td>\n",
       "      <td>male</td>\n",
       "      <td>follow</td>\n",
       "      <td>0</td>\n",
       "      <td>0.0</td>\n",
       "    </tr>\n",
       "    <tr>\n",
       "      <th>2</th>\n",
       "      <td>Aad</td>\n",
       "      <td>male</td>\n",
       "      <td>first</td>\n",
       "      <td>1</td>\n",
       "      <td>0.0</td>\n",
       "    </tr>\n",
       "    <tr>\n",
       "      <th>3</th>\n",
       "      <td>Aad</td>\n",
       "      <td>male</td>\n",
       "      <td>follow</td>\n",
       "      <td>1</td>\n",
       "      <td>0.0</td>\n",
       "    </tr>\n",
       "    <tr>\n",
       "      <th>4</th>\n",
       "      <td>Aad</td>\n",
       "      <td>male</td>\n",
       "      <td>first</td>\n",
       "      <td>2</td>\n",
       "      <td>0.1</td>\n",
       "    </tr>\n",
       "  </tbody>\n",
       "</table>\n",
       "</div>"
      ],
      "text/plain": [
       "  name gender name_type ii  approximation\n",
       "0  Aad   male     first  0            0.0\n",
       "1  Aad   male    follow  0            0.0\n",
       "2  Aad   male     first  1            0.0\n",
       "3  Aad   male    follow  1            0.0\n",
       "4  Aad   male     first  2            0.1"
      ]
     },
     "execution_count": 9,
     "metadata": {},
     "output_type": "execute_result"
    }
   ],
   "source": [
    "pd.melt(wide_name.reset_index(), id_vars=['name', 'gender', 'name_type'], \n",
    "        var_name='ii', value_name='approximation').head()"
   ]
  },
  {
   "cell_type": "markdown",
   "metadata": {},
   "source": [
    "The function <code>get_births()</code> does this for the columns <code>year</code>, <code>value</code> and <code>approximation</code>, and concatenates the result using an index on <code>(name, gender name type)</code> and the original position of the columns <code>ii</code>."
   ]
  },
  {
   "cell_type": "markdown",
   "metadata": {},
   "source": [
    "#### Combine actual and estimated rates "
   ]
  },
  {
   "cell_type": "markdown",
   "metadata": {},
   "source": [
    "Approximate births are given for years that don't have exact data, so we would like to use approximations if no real values are given. "
   ]
  },
  {
   "cell_type": "code",
   "execution_count": 10,
   "metadata": {
    "collapsed": false
   },
   "outputs": [],
   "source": [
    "# Combine approximate & exact stats \n",
    "births['n_born'] = births.approximation\n",
    "has_value = births.value > 0 \n",
    "births.ix[has_value, 'n_born'] = births.ix[has_value, 'value']\n",
    "# Tidy up\n",
    "births.drop(['value', 'approximation'], axis=1, inplace=True)\n",
    "births['year'] = births['year'].astype(int)\n",
    "births.rename(columns={'year': 'birth_year'}, inplace=True)"
   ]
  },
  {
   "cell_type": "markdown",
   "metadata": {},
   "source": [
    "#### Aggregates "
   ]
  },
  {
   "cell_type": "markdown",
   "metadata": {},
   "source": [
    "To compute the sums of the births for both name types, group over the all other identifying columns, and sum the number of births. Append the resulting <code>DataFrame</code> to the original one."
   ]
  },
  {
   "cell_type": "code",
   "execution_count": 11,
   "metadata": {
    "collapsed": false
   },
   "outputs": [],
   "source": [
    "def append_agg(df, id_vars, value_vars, id_name, id_value, aggfunc):\n",
    "    \"\"\"\n",
    "    Append aggregates.\n",
    "    \n",
    "    :param df: DataFrame\n",
    "    :param id_vars: Column(s) to use as identifier variables\n",
    "    :param value_vars: Column(s) to sum\n",
    "    :param agg_name: Column to aggregate \n",
    "    :param agg_value: Value to use as identifier in aggregated column\n",
    "    :param aggfunc: Function to use for aggregation\n",
    "    :returns DataFrame with aggregated sums appended\n",
    "    \"\"\"\n",
    "    if type(aggfunc) is dict:\n",
    "        totals = df.groupby(id_vars, as_index=False).agg(aggfunc)\n",
    "    else:\n",
    "        totals = df.groupby(id_vars, as_index=False)[value_vars].agg(aggfunc)\n",
    "    totals[id_name] = id_value\n",
    "    df = df[df[id_name] != id_value].append(totals, ignore_index=True)\n",
    "    return df"
   ]
  },
  {
   "cell_type": "code",
   "execution_count": 12,
   "metadata": {
    "collapsed": false,
    "scrolled": true
   },
   "outputs": [],
   "source": [
    "births = append_agg(births, ['name', 'gender', 'birth_year'],\n",
    "                    'n_born', 'name_type', 'total', 'sum')"
   ]
  },
  {
   "cell_type": "markdown",
   "metadata": {},
   "source": [
    "#### Analysis "
   ]
  },
  {
   "cell_type": "markdown",
   "metadata": {},
   "source": [
    "The end result looks like:"
   ]
  },
  {
   "cell_type": "code",
   "execution_count": 13,
   "metadata": {
    "collapsed": false
   },
   "outputs": [
    {
     "data": {
      "text/html": [
       "<div>\n",
       "<table border=\"1\" class=\"dataframe\">\n",
       "  <thead>\n",
       "    <tr style=\"text-align: right;\">\n",
       "      <th></th>\n",
       "      <th>birth_year</th>\n",
       "      <th>gender</th>\n",
       "      <th>n_born</th>\n",
       "      <th>name</th>\n",
       "      <th>name_type</th>\n",
       "    </tr>\n",
       "  </thead>\n",
       "  <tbody>\n",
       "    <tr>\n",
       "      <th>0</th>\n",
       "      <td>1880</td>\n",
       "      <td>female</td>\n",
       "      <td>0.00</td>\n",
       "      <td>Aaf</td>\n",
       "      <td>first</td>\n",
       "    </tr>\n",
       "    <tr>\n",
       "      <th>1</th>\n",
       "      <td>1880</td>\n",
       "      <td>female</td>\n",
       "      <td>9.10</td>\n",
       "      <td>Aaffien</td>\n",
       "      <td>first</td>\n",
       "    </tr>\n",
       "    <tr>\n",
       "      <th>2</th>\n",
       "      <td>1880</td>\n",
       "      <td>female</td>\n",
       "      <td>126.69</td>\n",
       "      <td>Aafje</td>\n",
       "      <td>first</td>\n",
       "    </tr>\n",
       "    <tr>\n",
       "      <th>3</th>\n",
       "      <td>1880</td>\n",
       "      <td>female</td>\n",
       "      <td>115.51</td>\n",
       "      <td>Aafke</td>\n",
       "      <td>first</td>\n",
       "    </tr>\n",
       "    <tr>\n",
       "      <th>4</th>\n",
       "      <td>1880</td>\n",
       "      <td>female</td>\n",
       "      <td>182.58</td>\n",
       "      <td>Aagje</td>\n",
       "      <td>first</td>\n",
       "    </tr>\n",
       "  </tbody>\n",
       "</table>\n",
       "</div>"
      ],
      "text/plain": [
       "   birth_year  gender  n_born     name name_type\n",
       "0        1880  female    0.00      Aaf     first\n",
       "1        1880  female    9.10  Aaffien     first\n",
       "2        1880  female  126.69    Aafje     first\n",
       "3        1880  female  115.51    Aafke     first\n",
       "4        1880  female  182.58    Aagje     first"
      ]
     },
     "execution_count": 13,
     "metadata": {},
     "output_type": "execute_result"
    }
   ],
   "source": [
    "births.head()"
   ]
  },
  {
   "cell_type": "code",
   "execution_count": 14,
   "metadata": {
    "collapsed": false
   },
   "outputs": [
    {
     "data": {
      "text/html": [
       "<div>\n",
       "<table border=\"1\" class=\"dataframe\">\n",
       "  <thead>\n",
       "    <tr style=\"text-align: right;\">\n",
       "      <th></th>\n",
       "      <th>birth_year</th>\n",
       "      <th>gender</th>\n",
       "      <th>n_born</th>\n",
       "      <th>name</th>\n",
       "      <th>name_type</th>\n",
       "    </tr>\n",
       "  </thead>\n",
       "  <tbody>\n",
       "    <tr>\n",
       "      <th>3788905</th>\n",
       "      <td>2010</td>\n",
       "      <td>male</td>\n",
       "      <td>1.04</td>\n",
       "      <td>İsmail</td>\n",
       "      <td>total</td>\n",
       "    </tr>\n",
       "    <tr>\n",
       "      <th>3788906</th>\n",
       "      <td>2011</td>\n",
       "      <td>male</td>\n",
       "      <td>1.02</td>\n",
       "      <td>İsmail</td>\n",
       "      <td>total</td>\n",
       "    </tr>\n",
       "    <tr>\n",
       "      <th>3788907</th>\n",
       "      <td>2012</td>\n",
       "      <td>male</td>\n",
       "      <td>1.00</td>\n",
       "      <td>İsmail</td>\n",
       "      <td>total</td>\n",
       "    </tr>\n",
       "    <tr>\n",
       "      <th>3788908</th>\n",
       "      <td>2013</td>\n",
       "      <td>male</td>\n",
       "      <td>1.00</td>\n",
       "      <td>İsmail</td>\n",
       "      <td>total</td>\n",
       "    </tr>\n",
       "    <tr>\n",
       "      <th>3788909</th>\n",
       "      <td>2014</td>\n",
       "      <td>male</td>\n",
       "      <td>1.00</td>\n",
       "      <td>İsmail</td>\n",
       "      <td>total</td>\n",
       "    </tr>\n",
       "  </tbody>\n",
       "</table>\n",
       "</div>"
      ],
      "text/plain": [
       "         birth_year gender  n_born    name name_type\n",
       "3788905        2010   male    1.04  İsmail     total\n",
       "3788906        2011   male    1.02  İsmail     total\n",
       "3788907        2012   male    1.00  İsmail     total\n",
       "3788908        2013   male    1.00  İsmail     total\n",
       "3788909        2014   male    1.00  İsmail     total"
      ]
     },
     "execution_count": 14,
     "metadata": {},
     "output_type": "execute_result"
    }
   ],
   "source": [
    "births.tail()"
   ]
  },
  {
   "cell_type": "markdown",
   "metadata": {},
   "source": [
    "We can already plot the yearly birth rates for a name:"
   ]
  },
  {
   "cell_type": "code",
   "execution_count": 15,
   "metadata": {
    "collapsed": false
   },
   "outputs": [
    {
     "data": {
      "image/png": "[encoded data removed]",
      "text/plain": [
       "<matplotlib.figure.Figure at 0x7fc79eb9f8d0>"
      ]
     },
     "metadata": {},
     "output_type": "display_data"
    }
   ],
   "source": [
    "NAME = 'Anne'\n",
    "id_cols = ['name_type', 'gender']\n",
    "current_births = births[births.name == NAME]\n",
    "\n",
    "fig, ax = plt.subplots(2, 3, sharex=True, sharey=True)\n",
    "ax = ax.reshape(-1)  # Reshape the list for easy iteraton\n",
    "for i_plot, (key, group) in enumerate(current_births.groupby(id_cols)):\n",
    "    group.plot(x='birth_year', y='n_born', ax=ax[i_plot],\n",
    "               title=' - '.join(key), rot=45)\n",
    "    ax[i_plot].legend([])\n",
    "    ax[i_plot].set_ylabel('# births')\n",
    "fig.tight_layout()"
   ]
  },
  {
   "cell_type": "markdown",
   "metadata": {},
   "source": [
    "Plotting the yearly birth totals clearly shows a big baby boom after the Second World War."
   ]
  },
  {
   "cell_type": "code",
   "execution_count": 16,
   "metadata": {
    "collapsed": false
   },
   "outputs": [
    {
     "data": {
      "image/png": "[encoded data removed]",
      "text/plain": [
       "<matplotlib.figure.Figure at 0x7fc79a88e850>"
      ]
     },
     "metadata": {},
     "output_type": "display_data"
    }
   ],
   "source": [
    "yearly_births = pd.pivot_table(births, index='birth_year', \n",
    "                               columns=['name_type', 'gender'], \n",
    "                               values='n_born', aggfunc='sum')\n",
    "\n",
    "fig, ax = plt.subplots(2, 2, sharex='col', sharey='col')\n",
    "for i_row, name_type in enumerate(['first', 'follow']):\n",
    "    (yearly_births.sum()[name_type] / 1E3).plot(kind='bar', rot=45, \n",
    "                                                ax=ax[i_row, 0])\n",
    "    ax[i_row, 0].set_ylabel('# births (thousands)')\n",
    "    ax[i_row, 0].set_title('Total births for %s name' % name_type)\n",
    "    \n",
    "    (yearly_births[name_type] / 1E3).plot(ax=ax[i_row, 1])\n",
    "    ax[i_row, 1].set_ylabel('# births (thousands)')\n",
    "    ax[i_row, 1].set_title('Yearly births for %s name' % name_type)"
   ]
  },
  {
   "cell_type": "markdown",
   "metadata": {},
   "source": [
    "The ratio of total follow and first names shows that Dutch baby boomers are more likely to have more than one follow name compared to previous and later generations."
   ]
  },
  {
   "cell_type": "code",
   "execution_count": 17,
   "metadata": {
    "collapsed": false
   },
   "outputs": [
    {
     "data": {
      "text/plain": [
       "<matplotlib.text.Text at 0x7fc79e263e10>"
      ]
     },
     "execution_count": 17,
     "metadata": {},
     "output_type": "execute_result"
    },
    {
     "data": {
      "image/png": "[encoded data removed]",
      "text/plain": [
       "<matplotlib.figure.Figure at 0x7fc79876f410>"
      ]
     },
     "metadata": {},
     "output_type": "display_data"
    }
   ],
   "source": [
    "name_type_ratio = (yearly_births['follow'] / yearly_births['first'])\n",
    "ax = name_type_ratio.plot()\n",
    "ax.set_ylabel('Ratio')\n",
    "ax.set_title(\"Ratio between # born with follow and first name\")"
   ]
  },
  {
   "cell_type": "markdown",
   "metadata": {},
   "source": [
    "## 2. Survival rates "
   ]
  },
  {
   "cell_type": "markdown",
   "metadata": {},
   "source": [
    "Survival rates were obtained from the [CBS](http://www.cbs.nl), the Dutch Central Bureau of Statistics.\n",
    "\n",
    "This section obtained yearly survival rates for a given birth year and gender. We will do the following:\n",
    "* Parse the data and convert cohort survival rates to individual survival rates.\n",
    "* Fill in missing survival rates and estimate survival rates for people older than 99 years."
   ]
  },
  {
   "cell_type": "markdown",
   "metadata": {},
   "source": [
    "#### Parse data"
   ]
  },
  {
   "cell_type": "code",
   "execution_count": 18,
   "metadata": {
    "collapsed": false,
    "scrolled": true
   },
   "outputs": [
    {
     "name": "stderr",
     "output_type": "stream",
     "text": [
      "/usr/local/lib/python2.7/dist-packages/pandas/io/parsers.py:648: ParserWarning: Falling back to the 'python' engine because the 'c' engine does not support skip_footer; you can avoid this warning by specifying engine='python'.\n",
      "  ParserWarning)\n"
     ]
    },
    {
     "data": {
      "text/html": [
       "<div>\n",
       "<table border=\"1\" class=\"dataframe\">\n",
       "  <thead>\n",
       "    <tr style=\"text-align: right;\">\n",
       "      <th></th>\n",
       "      <th>age</th>\n",
       "      <th>birth_year</th>\n",
       "      <th>gender</th>\n",
       "      <th>amount</th>\n",
       "    </tr>\n",
       "  </thead>\n",
       "  <tbody>\n",
       "    <tr>\n",
       "      <th>0</th>\n",
       "      <td>0 jaar</td>\n",
       "      <td>1850</td>\n",
       "      <td>Mannen</td>\n",
       "      <td>100000</td>\n",
       "    </tr>\n",
       "    <tr>\n",
       "      <th>1</th>\n",
       "      <td>0 jaar</td>\n",
       "      <td>1850</td>\n",
       "      <td>Vrouwen</td>\n",
       "      <td>100000</td>\n",
       "    </tr>\n",
       "    <tr>\n",
       "      <th>2</th>\n",
       "      <td>0 jaar</td>\n",
       "      <td>1851</td>\n",
       "      <td>Mannen</td>\n",
       "      <td>100000</td>\n",
       "    </tr>\n",
       "    <tr>\n",
       "      <th>3</th>\n",
       "      <td>0 jaar</td>\n",
       "      <td>1851</td>\n",
       "      <td>Vrouwen</td>\n",
       "      <td>100000</td>\n",
       "    </tr>\n",
       "    <tr>\n",
       "      <th>4</th>\n",
       "      <td>0 jaar</td>\n",
       "      <td>1852</td>\n",
       "      <td>Mannen</td>\n",
       "      <td>100000</td>\n",
       "    </tr>\n",
       "  </tbody>\n",
       "</table>\n",
       "</div>"
      ],
      "text/plain": [
       "      age  birth_year   gender  amount\n",
       "0  0 jaar        1850   Mannen  100000\n",
       "1  0 jaar        1850  Vrouwen  100000\n",
       "2  0 jaar        1851   Mannen  100000\n",
       "3  0 jaar        1851  Vrouwen  100000\n",
       "4  0 jaar        1852   Mannen  100000"
      ]
     },
     "execution_count": 18,
     "metadata": {},
     "output_type": "execute_result"
    }
   ],
   "source": [
    "survival = pd.read_csv('data/cbs_life_expectancy.csv', delimiter=';', \n",
    "                       skiprows=4, \n",
    "                       names=['age', 'birth_year', 'gender', 'amount'], \n",
    "                       skipfooter=1)\n",
    "survival.head()"
   ]
  },
  {
   "cell_type": "markdown",
   "metadata": {},
   "source": [
    "The life expectancy is given as the number of people that survive up to a given year from a cohort. Each cohort consists of 100,000 people with the same gender and birth year. The probability for someone with a given birth year and gender can be obtained by dividing the appropriate value by 100,00. "
   ]
  },
  {
   "cell_type": "markdown",
   "metadata": {},
   "source": [
    "Remove 'jaar' from the strings in the age columns, translate the Dutch words, detect missing values and convert the cohort rates to probabilities."
   ]
  },
  {
   "cell_type": "code",
   "execution_count": 19,
   "metadata": {
    "collapsed": false
   },
   "outputs": [
    {
     "data": {
      "text/html": [
       "<div>\n",
       "<table border=\"1\" class=\"dataframe\">\n",
       "  <thead>\n",
       "    <tr style=\"text-align: right;\">\n",
       "      <th></th>\n",
       "      <th>age</th>\n",
       "      <th>birth_year</th>\n",
       "      <th>gender</th>\n",
       "      <th>survival_rate</th>\n",
       "    </tr>\n",
       "  </thead>\n",
       "  <tbody>\n",
       "    <tr>\n",
       "      <th>1</th>\n",
       "      <td>0</td>\n",
       "      <td>1850</td>\n",
       "      <td>female</td>\n",
       "      <td>1.00000</td>\n",
       "    </tr>\n",
       "    <tr>\n",
       "      <th>423</th>\n",
       "      <td>1</td>\n",
       "      <td>1850</td>\n",
       "      <td>female</td>\n",
       "      <td>0.88455</td>\n",
       "    </tr>\n",
       "    <tr>\n",
       "      <th>845</th>\n",
       "      <td>2</td>\n",
       "      <td>1850</td>\n",
       "      <td>female</td>\n",
       "      <td>0.80731</td>\n",
       "    </tr>\n",
       "    <tr>\n",
       "      <th>1267</th>\n",
       "      <td>3</td>\n",
       "      <td>1850</td>\n",
       "      <td>female</td>\n",
       "      <td>0.76907</td>\n",
       "    </tr>\n",
       "    <tr>\n",
       "      <th>1689</th>\n",
       "      <td>4</td>\n",
       "      <td>1850</td>\n",
       "      <td>female</td>\n",
       "      <td>0.75025</td>\n",
       "    </tr>\n",
       "  </tbody>\n",
       "</table>\n",
       "</div>"
      ],
      "text/plain": [
       "      age  birth_year  gender  survival_rate\n",
       "1       0        1850  female        1.00000\n",
       "423     1        1850  female        0.88455\n",
       "845     2        1850  female        0.80731\n",
       "1267    3        1850  female        0.76907\n",
       "1689    4        1850  female        0.75025"
      ]
     },
     "execution_count": 19,
     "metadata": {},
     "output_type": "execute_result"
    }
   ],
   "source": [
    "survival['age'] = survival.age.str.split(' ').apply(lambda x: float(x[0]))\n",
    "survival['gender'] = survival.gender.map({'Mannen': 'male', \n",
    "                                          'Vrouwen': 'female'})\n",
    "survival.ix[(survival.amount == '.'), 'amount'] = None\n",
    "survival['survival_rate'] = survival['amount'].astype(np.float) / 100000.\n",
    "survival.drop('amount', axis=1, inplace=True)\n",
    "survival.sort(['birth_year', 'gender', 'age'], inplace=True)\n",
    "survival.head()"
   ]
  },
  {
   "cell_type": "markdown",
   "metadata": {},
   "source": [
    "#### Missing survival rates"
   ]
  },
  {
   "cell_type": "markdown",
   "metadata": {},
   "source": [
    "Not all year & age combinations have survival rates and people are estimated to not get older than 99 years:"
   ]
  },
  {
   "cell_type": "code",
   "execution_count": 20,
   "metadata": {
    "collapsed": false
   },
   "outputs": [
    {
     "data": {
      "text/html": [
       "<div>\n",
       "<table border=\"1\" class=\"dataframe\">\n",
       "  <thead>\n",
       "    <tr style=\"text-align: right;\">\n",
       "      <th></th>\n",
       "      <th>age</th>\n",
       "      <th>birth_year</th>\n",
       "      <th>gender</th>\n",
       "      <th>survival_rate</th>\n",
       "    </tr>\n",
       "  </thead>\n",
       "  <tbody>\n",
       "    <tr>\n",
       "      <th>36125</th>\n",
       "      <td>85</td>\n",
       "      <td>1977</td>\n",
       "      <td>female</td>\n",
       "      <td>NaN</td>\n",
       "    </tr>\n",
       "    <tr>\n",
       "      <th>36124</th>\n",
       "      <td>85</td>\n",
       "      <td>1977</td>\n",
       "      <td>male</td>\n",
       "      <td>NaN</td>\n",
       "    </tr>\n",
       "    <tr>\n",
       "      <th>36127</th>\n",
       "      <td>85</td>\n",
       "      <td>1978</td>\n",
       "      <td>female</td>\n",
       "      <td>NaN</td>\n",
       "    </tr>\n",
       "    <tr>\n",
       "      <th>36126</th>\n",
       "      <td>85</td>\n",
       "      <td>1978</td>\n",
       "      <td>male</td>\n",
       "      <td>NaN</td>\n",
       "    </tr>\n",
       "    <tr>\n",
       "      <th>36129</th>\n",
       "      <td>85</td>\n",
       "      <td>1979</td>\n",
       "      <td>female</td>\n",
       "      <td>NaN</td>\n",
       "    </tr>\n",
       "  </tbody>\n",
       "</table>\n",
       "</div>"
      ],
      "text/plain": [
       "       age  birth_year  gender  survival_rate\n",
       "36125   85        1977  female            NaN\n",
       "36124   85        1977    male            NaN\n",
       "36127   85        1978  female            NaN\n",
       "36126   85        1978    male            NaN\n",
       "36129   85        1979  female            NaN"
      ]
     },
     "execution_count": 20,
     "metadata": {},
     "output_type": "execute_result"
    }
   ],
   "source": [
    "survival[(survival.age == 85) & \n",
    "         survival.survival_rate.isnull()].head()"
   ]
  },
  {
   "cell_type": "code",
   "execution_count": 21,
   "metadata": {
    "collapsed": false
   },
   "outputs": [
    {
     "data": {
      "text/html": [
       "<div>\n",
       "<table border=\"1\" class=\"dataframe\">\n",
       "  <thead>\n",
       "    <tr style=\"text-align: right;\">\n",
       "      <th></th>\n",
       "      <th>age</th>\n",
       "      <th>birth_year</th>\n",
       "      <th>gender</th>\n",
       "      <th>survival_rate</th>\n",
       "    </tr>\n",
       "  </thead>\n",
       "  <tbody>\n",
       "    <tr>\n",
       "      <th>40370</th>\n",
       "      <td>95</td>\n",
       "      <td>1990</td>\n",
       "      <td>male</td>\n",
       "      <td>NaN</td>\n",
       "    </tr>\n",
       "    <tr>\n",
       "      <th>40792</th>\n",
       "      <td>96</td>\n",
       "      <td>1990</td>\n",
       "      <td>male</td>\n",
       "      <td>NaN</td>\n",
       "    </tr>\n",
       "    <tr>\n",
       "      <th>41214</th>\n",
       "      <td>97</td>\n",
       "      <td>1990</td>\n",
       "      <td>male</td>\n",
       "      <td>NaN</td>\n",
       "    </tr>\n",
       "    <tr>\n",
       "      <th>41636</th>\n",
       "      <td>98</td>\n",
       "      <td>1990</td>\n",
       "      <td>male</td>\n",
       "      <td>NaN</td>\n",
       "    </tr>\n",
       "    <tr>\n",
       "      <th>42058</th>\n",
       "      <td>99</td>\n",
       "      <td>1990</td>\n",
       "      <td>male</td>\n",
       "      <td>NaN</td>\n",
       "    </tr>\n",
       "  </tbody>\n",
       "</table>\n",
       "</div>"
      ],
      "text/plain": [
       "       age  birth_year gender  survival_rate\n",
       "40370   95        1990   male            NaN\n",
       "40792   96        1990   male            NaN\n",
       "41214   97        1990   male            NaN\n",
       "41636   98        1990   male            NaN\n",
       "42058   99        1990   male            NaN"
      ]
     },
     "execution_count": 21,
     "metadata": {},
     "output_type": "execute_result"
    }
   ],
   "source": [
    "survival[(survival.birth_year == 1990) & \n",
    "         survival.survival_rate.isnull()].tail()"
   ]
  },
  {
   "cell_type": "markdown",
   "metadata": {},
   "source": [
    "To fill in the blanks, we'll:\n",
    "<li> use forward filling to use the last known survival rate for an age (naively assuming that the survival rate doesn't improve over time); </li>\n",
    "<li> and extrapolate survival rates for ages above 99 years by setting a maximum expected age and interpolate the missing parts. </li>\n",
    "\n",
    "This will give us more data than we actually need, but it's a nice exercise."
   ]
  },
  {
   "cell_type": "code",
   "execution_count": 22,
   "metadata": {
    "collapsed": false
   },
   "outputs": [],
   "source": [
    "MAX_AGE = 105\n",
    "\n",
    "def ffill_missing_years(df):\n",
    "    \"\"\"\n",
    "    Forward fill missing years for a given age and gender by \n",
    "    taking the survival rate of the last known year.\n",
    "    \n",
    "    :param df: DataFrame with survival rates\n",
    "    :returns Forward filled DataFrame\n",
    "    \"\"\"\n",
    "    groupby_cols = ['gender', 'age']\n",
    "    groups = df.groupby(groupby_cols, as_index=False)\n",
    "    filled = groups.apply(ffill_group)\n",
    "    reindex = filled.reset_index(drop=True)\n",
    "    return reindex\n",
    "\n",
    "\n",
    "def ffill_group(g):\n",
    "    \"\"\"\n",
    "    Forward fill a group using birth years.\n",
    "    \n",
    "    :param g: DataFrameGroupBy object for an age & gender \n",
    "    :returns Forward filled DataFrameGroupBy object\n",
    "    \"\"\"\n",
    "    reindex_g = g.set_index('birth_year')\n",
    "    filled_g = reindex_g.fillna(method='ffill')\n",
    "    return filled_g.reset_index()\n",
    "\n",
    "\n",
    "def extrapolate_age_survival_rate(df, max_age=MAX_AGE, method='quadratic'):\n",
    "    \"\"\"\n",
    "    Extrapolate survival rates up to a maximum age by assuming that\n",
    "    the survival rate is 0 at the maximum age and interpolating between \n",
    "    the last known value and the maximum age.\n",
    "    \n",
    "    Note: negative rates return by interpolation are set to 0.\n",
    "    \n",
    "    :param df: DataFrame with survival rates\n",
    "    :param max_age: Maximum age to extrapolate to\n",
    "    :param method: Method to interpolate with (see pd.Series.interpolate)\n",
    "    :returns DataFrame with extrapolated survival rates\n",
    "    \"\"\"\n",
    "    new_axis = range(0, max_age + 1)\n",
    "    groupby_cols = ['gender', 'birth_year']\n",
    "    groups = df.groupby(groupby_cols)\n",
    "    age_fcn = lambda x: extrapolate_col(x, 'age', new_axis, 0, method)\n",
    "    extrapolated = groups.apply(age_fcn)\n",
    "    extrapolated.ix[extrapolated.survival_rate < 0, 'survival_rate'] = 0\n",
    "    reindexed = extrapolated.reset_index(drop=True)\n",
    "    reindexed['birth_year'] = reindexed['birth_year'].astype(int)\n",
    "    return reindexed\n",
    "\n",
    "\n",
    "def extrapolate_col(df, col, extrapolate_axis, max_value, method):\n",
    "    \"\"\"\n",
    "    Extrapolate a column by setting a maximum value as the last value\n",
    "    and interpolating between the last non-NaN value and the last value. \n",
    "    \n",
    "    :param df: DataFrame\n",
    "    :param col: Column to interpolate\n",
    "    :param extrapolate_axis: Axis to extrapolate with\n",
    "    :param max_value: Maximum value to set\n",
    "    :param method: Method to use for interpolating\n",
    "    :returns DataFrame with extrapolated data\n",
    "    \"\"\"\n",
    "    reindex_df = df.set_index(col).reindex(extrapolate_axis)\n",
    "    reindex_df.ix[max(extrapolate_axis), 'survival_rate'] = max_value\n",
    "    id_cols = reindex_df.columns != 'survival_rate'\n",
    "    reindex_df.ix[:, id_cols] = reindex_df.ix[:, id_cols].fillna(method='ffill')\n",
    "    interpolate_func = lambda x: pd.Series.interpolate(x, method=method)\n",
    "    interpolated_df = reindex_df.apply(interpolate_func)\n",
    "    return interpolated_df.reset_index()"
   ]
  },
  {
   "cell_type": "code",
   "execution_count": 23,
   "metadata": {
    "collapsed": false
   },
   "outputs": [],
   "source": [
    "filled_survival = ffill_missing_years(survival)\n",
    "extrapolated_survival = extrapolate_age_survival_rate(filled_survival, \n",
    "                                                      method='linear')"
   ]
  },
  {
   "cell_type": "markdown",
   "metadata": {},
   "source": [
    "#### Analysis"
   ]
  },
  {
   "cell_type": "code",
   "execution_count": 24,
   "metadata": {
    "collapsed": false
   },
   "outputs": [
    {
     "data": {
      "image/png": "[encoded data removed]",
      "text/plain": [
       "<matplotlib.figure.Figure at 0x7fc79a80d250>"
      ]
     },
     "metadata": {},
     "output_type": "display_data"
    }
   ],
   "source": [
    "DEMO_YEAR = 1990\n",
    "def get_yearly_data(df, year):\n",
    "    \"\"\"\n",
    "    Get yearly data and pivot.\n",
    "    \n",
    "    :param df: DataFrame\n",
    "    :param year: Target year\n",
    "    :returns Pivoted DataFrame with data from year\n",
    "    \"\"\"\n",
    "    temp = df[df.birth_year == year]\n",
    "    data = temp.pivot(columns='gender', index='age', \n",
    "                      values='survival_rate')\n",
    "    return data\n",
    "\n",
    "year_original = get_yearly_data(survival, DEMO_YEAR)\n",
    "year_filled = get_yearly_data(filled_survival, DEMO_YEAR)\n",
    "year_extrapolated = get_yearly_data(extrapolated_survival, DEMO_YEAR)\n",
    "\n",
    "fig, ax = plt.subplots(1, 3, figsize=(16, 4), sharex=True, sharey=True)\n",
    "\n",
    "title_suffix = ' - year: ' + str(DEMO_YEAR)\n",
    "year_original.plot(ax=ax[0], title='original' + title_suffix)\n",
    "year_filled.plot(ax=ax[1], title='forward' + title_suffix)\n",
    "year_extrapolated.plot(ax=ax[2], title='extrapolated' + title_suffix)\n",
    "for current_ax in ax:\n",
    "    current_ax.set_ylabel('survival rate')\n",
    "    current_ax.legend(loc='lower left', frameon=True)"
   ]
  },
  {
   "cell_type": "markdown",
   "metadata": {},
   "source": [
    "The plots above show that the original data missed quite some survival rates. Forward filling filled in all the blanks up to 99 years, extrapolation fixed the rest of the curve. There are probably better candidates than linear interpolation, but it works good enough and won't lead to unexpected results as can be obtained for e.g. quadratic interpolation as the plot below on the right shows for ages above 99 years."
   ]
  },
  {
   "cell_type": "code",
   "execution_count": 25,
   "metadata": {
    "collapsed": false,
    "scrolled": true
   },
   "outputs": [
    {
     "data": {
      "image/png": "[encoded data removed]",
      "text/plain": [
       "<matplotlib.figure.Figure at 0x7fc79b357ed0>"
      ]
     },
     "metadata": {},
     "output_type": "display_data"
    }
   ],
   "source": [
    "fig, ax = plt.subplots(1, 3, figsize=(16, 4), sharex=True, sharey=True)\n",
    "quadratic_extrapolated = extrapolate_age_survival_rate(filled_survival, \n",
    "                                                       method='quadratic')\n",
    "\n",
    "for i_plot, year in enumerate([1850, 1950, 2050]):\n",
    "    get_yearly_data(quadratic_extrapolated, year).plot(ax=ax[i_plot], \n",
    "                                                       title=str(year))\n",
    "    ax[i_plot].set_ylabel('survival rate')\n",
    "    ax[i_plot].legend(loc='lower left', frameon=True)"
   ]
  },
  {
   "cell_type": "markdown",
   "metadata": {},
   "source": [
    "## 3. Combining births and survival rates "
   ]
  },
  {
   "cell_type": "markdown",
   "metadata": {},
   "source": [
    "With data on how many people were born in a year and on how many are expected to survive up to a given age, we'll have all the data we need. Combining these datasets will given the number of people still alive in a year for a given name, gender and name type.\n",
    "\n",
    "First, for all years get rates on how likely it is up to survive up to a given year."
   ]
  },
  {
   "cell_type": "code",
   "execution_count": 26,
   "metadata": {
    "collapsed": false,
    "scrolled": true
   },
   "outputs": [],
   "source": [
    "TARGET_YEAR = 2014\n",
    "assert (extrapolated_survival.birth_year == TARGET_YEAR).any(), 'Invalid year'\n",
    "is_alive_in_year = (extrapolated_survival.age + \n",
    "                    extrapolated_survival.birth_year == TARGET_YEAR)\n",
    "year_survival = extrapolated_survival[is_alive_in_year]"
   ]
  },
  {
   "cell_type": "code",
   "execution_count": 27,
   "metadata": {
    "collapsed": false
   },
   "outputs": [
    {
     "data": {
      "text/html": [
       "<div>\n",
       "<table border=\"1\" class=\"dataframe\">\n",
       "  <thead>\n",
       "    <tr style=\"text-align: right;\">\n",
       "      <th></th>\n",
       "      <th>age</th>\n",
       "      <th>birth_year</th>\n",
       "      <th>gender</th>\n",
       "      <th>survival_rate</th>\n",
       "    </tr>\n",
       "  </thead>\n",
       "  <tbody>\n",
       "    <tr>\n",
       "      <th>6359</th>\n",
       "      <td>105</td>\n",
       "      <td>1909</td>\n",
       "      <td>female</td>\n",
       "      <td>0.000000</td>\n",
       "    </tr>\n",
       "    <tr>\n",
       "      <th>6464</th>\n",
       "      <td>104</td>\n",
       "      <td>1910</td>\n",
       "      <td>female</td>\n",
       "      <td>0.002905</td>\n",
       "    </tr>\n",
       "    <tr>\n",
       "      <th>6569</th>\n",
       "      <td>103</td>\n",
       "      <td>1911</td>\n",
       "      <td>female</td>\n",
       "      <td>0.005980</td>\n",
       "    </tr>\n",
       "    <tr>\n",
       "      <th>6674</th>\n",
       "      <td>102</td>\n",
       "      <td>1912</td>\n",
       "      <td>female</td>\n",
       "      <td>0.009320</td>\n",
       "    </tr>\n",
       "    <tr>\n",
       "      <th>6779</th>\n",
       "      <td>101</td>\n",
       "      <td>1913</td>\n",
       "      <td>female</td>\n",
       "      <td>0.013847</td>\n",
       "    </tr>\n",
       "  </tbody>\n",
       "</table>\n",
       "</div>"
      ],
      "text/plain": [
       "      age  birth_year  gender  survival_rate\n",
       "6359  105        1909  female       0.000000\n",
       "6464  104        1910  female       0.002905\n",
       "6569  103        1911  female       0.005980\n",
       "6674  102        1912  female       0.009320\n",
       "6779  101        1913  female       0.013847"
      ]
     },
     "execution_count": 27,
     "metadata": {},
     "output_type": "execute_result"
    }
   ],
   "source": [
    "year_survival.head()"
   ]
  },
  {
   "cell_type": "markdown",
   "metadata": {},
   "source": [
    "Combine this with the data on the births to get the yearly expected number of people born and still alive in the given year."
   ]
  },
  {
   "cell_type": "code",
   "execution_count": 28,
   "metadata": {
    "collapsed": false
   },
   "outputs": [
    {
     "data": {
      "text/html": [
       "<div>\n",
       "<table border=\"1\" class=\"dataframe\">\n",
       "  <thead>\n",
       "    <tr style=\"text-align: right;\">\n",
       "      <th></th>\n",
       "      <th>birth_year</th>\n",
       "      <th>gender</th>\n",
       "      <th>n_born</th>\n",
       "      <th>name</th>\n",
       "      <th>name_type</th>\n",
       "    </tr>\n",
       "  </thead>\n",
       "  <tbody>\n",
       "    <tr>\n",
       "      <th>0</th>\n",
       "      <td>1880</td>\n",
       "      <td>female</td>\n",
       "      <td>0.00</td>\n",
       "      <td>Aaf</td>\n",
       "      <td>first</td>\n",
       "    </tr>\n",
       "    <tr>\n",
       "      <th>1</th>\n",
       "      <td>1880</td>\n",
       "      <td>female</td>\n",
       "      <td>9.10</td>\n",
       "      <td>Aaffien</td>\n",
       "      <td>first</td>\n",
       "    </tr>\n",
       "    <tr>\n",
       "      <th>2</th>\n",
       "      <td>1880</td>\n",
       "      <td>female</td>\n",
       "      <td>126.69</td>\n",
       "      <td>Aafje</td>\n",
       "      <td>first</td>\n",
       "    </tr>\n",
       "    <tr>\n",
       "      <th>3</th>\n",
       "      <td>1880</td>\n",
       "      <td>female</td>\n",
       "      <td>115.51</td>\n",
       "      <td>Aafke</td>\n",
       "      <td>first</td>\n",
       "    </tr>\n",
       "    <tr>\n",
       "      <th>4</th>\n",
       "      <td>1880</td>\n",
       "      <td>female</td>\n",
       "      <td>182.58</td>\n",
       "      <td>Aagje</td>\n",
       "      <td>first</td>\n",
       "    </tr>\n",
       "  </tbody>\n",
       "</table>\n",
       "</div>"
      ],
      "text/plain": [
       "   birth_year  gender  n_born     name name_type\n",
       "0        1880  female    0.00      Aaf     first\n",
       "1        1880  female    9.10  Aaffien     first\n",
       "2        1880  female  126.69    Aafje     first\n",
       "3        1880  female  115.51    Aafke     first\n",
       "4        1880  female  182.58    Aagje     first"
      ]
     },
     "execution_count": 28,
     "metadata": {},
     "output_type": "execute_result"
    }
   ],
   "source": [
    "births.head()"
   ]
  },
  {
   "cell_type": "code",
   "execution_count": 29,
   "metadata": {
    "collapsed": false
   },
   "outputs": [
    {
     "data": {
      "text/html": [
       "<div>\n",
       "<table border=\"1\" class=\"dataframe\">\n",
       "  <thead>\n",
       "    <tr style=\"text-align: right;\">\n",
       "      <th></th>\n",
       "      <th>birth_year</th>\n",
       "      <th>gender</th>\n",
       "      <th>n_born</th>\n",
       "      <th>name</th>\n",
       "      <th>name_type</th>\n",
       "      <th>age</th>\n",
       "      <th>survival_rate</th>\n",
       "      <th>n_born_and_alive</th>\n",
       "    </tr>\n",
       "  </thead>\n",
       "  <tbody>\n",
       "    <tr>\n",
       "      <th>1712301</th>\n",
       "      <td>1970</td>\n",
       "      <td>female</td>\n",
       "      <td>179</td>\n",
       "      <td>Anne</td>\n",
       "      <td>first</td>\n",
       "      <td>44</td>\n",
       "      <td>0.97173</td>\n",
       "      <td>173.93967</td>\n",
       "    </tr>\n",
       "    <tr>\n",
       "      <th>1717883</th>\n",
       "      <td>1970</td>\n",
       "      <td>female</td>\n",
       "      <td>307</td>\n",
       "      <td>Anne</td>\n",
       "      <td>follow</td>\n",
       "      <td>44</td>\n",
       "      <td>0.97173</td>\n",
       "      <td>298.32111</td>\n",
       "    </tr>\n",
       "    <tr>\n",
       "      <th>1721798</th>\n",
       "      <td>1970</td>\n",
       "      <td>female</td>\n",
       "      <td>486</td>\n",
       "      <td>Anne</td>\n",
       "      <td>total</td>\n",
       "      <td>44</td>\n",
       "      <td>0.97173</td>\n",
       "      <td>472.26078</td>\n",
       "    </tr>\n",
       "    <tr>\n",
       "      <th>1727991</th>\n",
       "      <td>1970</td>\n",
       "      <td>male</td>\n",
       "      <td>149</td>\n",
       "      <td>Anne</td>\n",
       "      <td>first</td>\n",
       "      <td>44</td>\n",
       "      <td>0.95837</td>\n",
       "      <td>142.79713</td>\n",
       "    </tr>\n",
       "    <tr>\n",
       "      <th>1732207</th>\n",
       "      <td>1970</td>\n",
       "      <td>male</td>\n",
       "      <td>154</td>\n",
       "      <td>Anne</td>\n",
       "      <td>follow</td>\n",
       "      <td>44</td>\n",
       "      <td>0.95837</td>\n",
       "      <td>147.58898</td>\n",
       "    </tr>\n",
       "    <tr>\n",
       "      <th>1735456</th>\n",
       "      <td>1970</td>\n",
       "      <td>male</td>\n",
       "      <td>303</td>\n",
       "      <td>Anne</td>\n",
       "      <td>total</td>\n",
       "      <td>44</td>\n",
       "      <td>0.95837</td>\n",
       "      <td>290.38611</td>\n",
       "    </tr>\n",
       "  </tbody>\n",
       "</table>\n",
       "</div>"
      ],
      "text/plain": [
       "         birth_year  gender  n_born  name name_type  age  survival_rate  \\\n",
       "1712301        1970  female     179  Anne     first   44        0.97173   \n",
       "1717883        1970  female     307  Anne    follow   44        0.97173   \n",
       "1721798        1970  female     486  Anne     total   44        0.97173   \n",
       "1727991        1970    male     149  Anne     first   44        0.95837   \n",
       "1732207        1970    male     154  Anne    follow   44        0.95837   \n",
       "1735456        1970    male     303  Anne     total   44        0.95837   \n",
       "\n",
       "         n_born_and_alive  \n",
       "1712301         173.93967  \n",
       "1717883         298.32111  \n",
       "1721798         472.26078  \n",
       "1727991         142.79713  \n",
       "1732207         147.58898  \n",
       "1735456         290.38611  "
      ]
     },
     "execution_count": 29,
     "metadata": {},
     "output_type": "execute_result"
    }
   ],
   "source": [
    "name_survival = pd.merge(births, year_survival, \n",
    "                         on=['gender', 'birth_year'])\n",
    "name_survival['n_born_and_alive'] = (name_survival.n_born * \n",
    "                                     name_survival.survival_rate)\n",
    "name_survival[(name_survival.name == 'Anne') & \n",
    "              (name_survival.birth_year == 1970)]"
   ]
  },
  {
   "cell_type": "markdown",
   "metadata": {},
   "source": [
    "Aggregate stats for both genders."
   ]
  },
  {
   "cell_type": "code",
   "execution_count": 30,
   "metadata": {
    "collapsed": false
   },
   "outputs": [],
   "source": [
    "name_survival = append_agg(name_survival, ['birth_year', 'name', \n",
    "                                           'name_type', 'age'],\n",
    "                           ['n_born', 'survival_rate', 'n_born_and_alive'],\n",
    "                           'gender', 'any',\n",
    "                           {'n_born': 'sum', 'survival_rate': 'mean', \n",
    "                            'n_born_and_alive': 'sum'})"
   ]
  },
  {
   "cell_type": "code",
   "execution_count": 31,
   "metadata": {
    "collapsed": false
   },
   "outputs": [
    {
     "data": {
      "text/html": [
       "<div>\n",
       "<table border=\"1\" class=\"dataframe\">\n",
       "  <thead>\n",
       "    <tr style=\"text-align: right;\">\n",
       "      <th></th>\n",
       "      <th>age</th>\n",
       "      <th>birth_year</th>\n",
       "      <th>gender</th>\n",
       "      <th>n_born</th>\n",
       "      <th>n_born_and_alive</th>\n",
       "      <th>name</th>\n",
       "      <th>name_type</th>\n",
       "      <th>survival_rate</th>\n",
       "    </tr>\n",
       "  </thead>\n",
       "  <tbody>\n",
       "    <tr>\n",
       "      <th>1712301</th>\n",
       "      <td>44</td>\n",
       "      <td>1970</td>\n",
       "      <td>female</td>\n",
       "      <td>179</td>\n",
       "      <td>173.93967</td>\n",
       "      <td>Anne</td>\n",
       "      <td>first</td>\n",
       "      <td>0.97173</td>\n",
       "    </tr>\n",
       "    <tr>\n",
       "      <th>1717883</th>\n",
       "      <td>44</td>\n",
       "      <td>1970</td>\n",
       "      <td>female</td>\n",
       "      <td>307</td>\n",
       "      <td>298.32111</td>\n",
       "      <td>Anne</td>\n",
       "      <td>follow</td>\n",
       "      <td>0.97173</td>\n",
       "    </tr>\n",
       "    <tr>\n",
       "      <th>1721798</th>\n",
       "      <td>44</td>\n",
       "      <td>1970</td>\n",
       "      <td>female</td>\n",
       "      <td>486</td>\n",
       "      <td>472.26078</td>\n",
       "      <td>Anne</td>\n",
       "      <td>total</td>\n",
       "      <td>0.97173</td>\n",
       "    </tr>\n",
       "    <tr>\n",
       "      <th>1727991</th>\n",
       "      <td>44</td>\n",
       "      <td>1970</td>\n",
       "      <td>male</td>\n",
       "      <td>149</td>\n",
       "      <td>142.79713</td>\n",
       "      <td>Anne</td>\n",
       "      <td>first</td>\n",
       "      <td>0.95837</td>\n",
       "    </tr>\n",
       "    <tr>\n",
       "      <th>1732207</th>\n",
       "      <td>44</td>\n",
       "      <td>1970</td>\n",
       "      <td>male</td>\n",
       "      <td>154</td>\n",
       "      <td>147.58898</td>\n",
       "      <td>Anne</td>\n",
       "      <td>follow</td>\n",
       "      <td>0.95837</td>\n",
       "    </tr>\n",
       "    <tr>\n",
       "      <th>1735456</th>\n",
       "      <td>44</td>\n",
       "      <td>1970</td>\n",
       "      <td>male</td>\n",
       "      <td>303</td>\n",
       "      <td>290.38611</td>\n",
       "      <td>Anne</td>\n",
       "      <td>total</td>\n",
       "      <td>0.95837</td>\n",
       "    </tr>\n",
       "    <tr>\n",
       "      <th>4575773</th>\n",
       "      <td>44</td>\n",
       "      <td>1970</td>\n",
       "      <td>any</td>\n",
       "      <td>328</td>\n",
       "      <td>316.73680</td>\n",
       "      <td>Anne</td>\n",
       "      <td>first</td>\n",
       "      <td>0.96505</td>\n",
       "    </tr>\n",
       "    <tr>\n",
       "      <th>4575774</th>\n",
       "      <td>44</td>\n",
       "      <td>1970</td>\n",
       "      <td>any</td>\n",
       "      <td>461</td>\n",
       "      <td>445.91009</td>\n",
       "      <td>Anne</td>\n",
       "      <td>follow</td>\n",
       "      <td>0.96505</td>\n",
       "    </tr>\n",
       "    <tr>\n",
       "      <th>4575775</th>\n",
       "      <td>44</td>\n",
       "      <td>1970</td>\n",
       "      <td>any</td>\n",
       "      <td>789</td>\n",
       "      <td>762.64689</td>\n",
       "      <td>Anne</td>\n",
       "      <td>total</td>\n",
       "      <td>0.96505</td>\n",
       "    </tr>\n",
       "  </tbody>\n",
       "</table>\n",
       "</div>"
      ],
      "text/plain": [
       "         age  birth_year  gender  n_born  n_born_and_alive  name name_type  \\\n",
       "1712301   44        1970  female     179         173.93967  Anne     first   \n",
       "1717883   44        1970  female     307         298.32111  Anne    follow   \n",
       "1721798   44        1970  female     486         472.26078  Anne     total   \n",
       "1727991   44        1970    male     149         142.79713  Anne     first   \n",
       "1732207   44        1970    male     154         147.58898  Anne    follow   \n",
       "1735456   44        1970    male     303         290.38611  Anne     total   \n",
       "4575773   44        1970     any     328         316.73680  Anne     first   \n",
       "4575774   44        1970     any     461         445.91009  Anne    follow   \n",
       "4575775   44        1970     any     789         762.64689  Anne     total   \n",
       "\n",
       "         survival_rate  \n",
       "1712301        0.97173  \n",
       "1717883        0.97173  \n",
       "1721798        0.97173  \n",
       "1727991        0.95837  \n",
       "1732207        0.95837  \n",
       "1735456        0.95837  \n",
       "4575773        0.96505  \n",
       "4575774        0.96505  \n",
       "4575775        0.96505  "
      ]
     },
     "execution_count": 31,
     "metadata": {},
     "output_type": "execute_result"
    }
   ],
   "source": [
    "name_survival[(name_survival.name == 'Anne') & (name_survival.birth_year == 1970)]"
   ]
  },
  {
   "cell_type": "code",
   "execution_count": 32,
   "metadata": {
    "collapsed": false
   },
   "outputs": [
    {
     "data": {
      "text/plain": [
       "gender  name_type\n",
       "any     first        14563412.441263\n",
       "        follow       14253382.466510\n",
       "        total        28816794.907772\n",
       "female  first         7242309.842184\n",
       "        follow        7223969.460785\n",
       "        total        14466279.302972\n",
       "male    first         7321102.599078\n",
       "        follow        7029413.005724\n",
       "        total        14350515.604801\n",
       "Name: n_born_and_alive, dtype: float64"
      ]
     },
     "execution_count": 32,
     "metadata": {},
     "output_type": "execute_result"
    }
   ],
   "source": [
    "name_survival.groupby(['gender', 'name_type']).n_born_and_alive.sum()"
   ]
  },
  {
   "cell_type": "code",
   "execution_count": 33,
   "metadata": {
    "collapsed": false
   },
   "outputs": [
    {
     "data": {
      "text/plain": [
       "gender  name_type\n",
       "any     first        19290907.950007\n",
       "        follow       18002324.600004\n",
       "        total        37293232.550007\n",
       "female  first         9308774.520002\n",
       "        follow        8943597.780000\n",
       "        total        18252372.300003\n",
       "male    first         9982133.430001\n",
       "        follow        9058726.820000\n",
       "        total        19040860.250003\n",
       "Name: n_born, dtype: float64"
      ]
     },
     "execution_count": 33,
     "metadata": {},
     "output_type": "execute_result"
    }
   ],
   "source": [
    "name_survival.groupby(['gender', 'name_type']).n_born.sum()"
   ]
  },
  {
   "cell_type": "code",
   "execution_count": 34,
   "metadata": {
    "collapsed": false
   },
   "outputs": [],
   "source": [
    "name_survival['n_dead'] = name_survival.n_born - name_survival.n_born_and_alive\n",
    "out_path = 'out/name_survival_{year}.csv'.format(year=TARGET_YEAR)\n",
    "name_survival.to_csv(out_path, index=False, encoding='utf-8')"
   ]
  },
  {
   "cell_type": "markdown",
   "metadata": {},
   "source": [
    "## 4. Plots "
   ]
  },
  {
   "cell_type": "markdown",
   "metadata": {},
   "source": [
    "### Ideas:\n",
    "<li> Total deaths per name\n",
    "<li> Cumulative deaths vs cumulative born"
   ]
  }
 ],
 "metadata": {
  "kernelspec": {
   "display_name": "Python 2",
   "language": "python",
   "name": "python2"
  },
  "language_info": {
   "codemirror_mode": {
    "name": "ipython",
    "version": 2
   },
   "file_extension": ".py",
   "mimetype": "text/x-python",
   "name": "python",
   "nbconvert_exporter": "python",
   "pygments_lexer": "ipython2",
   "version": "2.7.6"
  }
 },
 "nbformat": 4,
 "nbformat_minor": 0
}
